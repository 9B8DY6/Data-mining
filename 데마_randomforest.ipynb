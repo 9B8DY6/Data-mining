{
  "nbformat": 4,
  "nbformat_minor": 0,
  "metadata": {
    "colab": {
      "name": "데마_randomforest",
      "provenance": [],
      "collapsed_sections": []
    },
    "kernelspec": {
      "name": "python3",
      "display_name": "Python 3"
    }
  },
  "cells": [
    {
      "cell_type": "code",
      "metadata": {
        "id": "wphcOiU01Hko",
        "colab_type": "code",
        "colab": {
          "base_uri": "https://localhost:8080/",
          "height": 168
        },
        "outputId": "46c0ce63-b267-4418-f20d-2c1efd7d83a0"
      },
      "source": [
        "import numpy as np\n",
        "import pandas as pd\n",
        "from matplotlib import pyplot as plt\n",
        "\n",
        "from sklearn.preprocessing import LabelBinarizer\n",
        "from scipy import interp\n",
        "import seaborn as sns\n",
        "from sklearn.metrics import classification_report\n",
        "\n",
        "from sklearn.model_selection import StratifiedKFold, GridSearchCV,train_test_split\n",
        "from sklearn.metrics import roc_curve, precision_recall_curve, auc, make_scorer, recall_score, accuracy_score, precision_score, confusion_matrix\n",
        "from sklearn.cluster import DBSCAN\n",
        "\n",
        "from sklearn.ensemble import RandomForestClassifier\n",
        "\n",
        "from google.colab import drive\n",
        "drive.mount('/content/drive')"
      ],
      "execution_count": null,
      "outputs": [
        {
          "output_type": "stream",
          "text": [
            "/usr/local/lib/python3.6/dist-packages/statsmodels/tools/_testing.py:19: FutureWarning: pandas.util.testing is deprecated. Use the functions in the public API at pandas.testing instead.\n",
            "  import pandas.util.testing as tm\n"
          ],
          "name": "stderr"
        },
        {
          "output_type": "stream",
          "text": [
            "Go to this URL in a browser: https://accounts.google.com/o/oauth2/auth?client_id=947318989803-6bn6qk8qdgf4n4g3pfee6491hc0brc4i.apps.googleusercontent.com&redirect_uri=urn%3aietf%3awg%3aoauth%3a2.0%3aoob&response_type=code&scope=email%20https%3a%2f%2fwww.googleapis.com%2fauth%2fdocs.test%20https%3a%2f%2fwww.googleapis.com%2fauth%2fdrive%20https%3a%2f%2fwww.googleapis.com%2fauth%2fdrive.photos.readonly%20https%3a%2f%2fwww.googleapis.com%2fauth%2fpeopleapi.readonly\n",
            "\n",
            "Enter your authorization code:\n",
            "··········\n",
            "Mounted at /content/drive\n"
          ],
          "name": "stdout"
        }
      ]
    },
    {
      "cell_type": "code",
      "metadata": {
        "id": "XrCXEKh42C8d",
        "colab_type": "code",
        "colab": {}
      },
      "source": [
        "root='/content/drive/My Drive/data.csv'\n",
        "df=pd.read_csv(root)"
      ],
      "execution_count": null,
      "outputs": []
    },
    {
      "cell_type": "code",
      "metadata": {
        "id": "DKPyoOkv8ViX",
        "colab_type": "code",
        "colab": {
          "base_uri": "https://localhost:8080/",
          "height": 241
        },
        "outputId": "1f6a57fe-8bf4-45cb-fb86-a67d2e463d0a"
      },
      "source": [
        "lb = LabelBinarizer()\n",
        "df['diagnosis'] = lb.fit_transform(df['diagnosis'].values)\n",
        "y=df['diagnosis']\n",
        "targets=df['diagnosis']\n",
        "df.drop(['id', 'diagnosis', 'Unnamed: 32'], axis=1, inplace=True)\n",
        "y"
      ],
      "execution_count": null,
      "outputs": [
        {
          "output_type": "execute_result",
          "data": {
            "text/plain": [
              "0      1\n",
              "1      1\n",
              "2      1\n",
              "3      1\n",
              "4      1\n",
              "      ..\n",
              "564    1\n",
              "565    1\n",
              "566    1\n",
              "567    1\n",
              "568    0\n",
              "Name: diagnosis, Length: 569, dtype: int64"
            ]
          },
          "metadata": {
            "tags": []
          },
          "execution_count": 3
        }
      ]
    },
    {
      "cell_type": "code",
      "metadata": {
        "id": "RdG-K3S-JLxJ",
        "colab_type": "code",
        "colab": {
          "base_uri": "https://localhost:8080/",
          "height": 453
        },
        "outputId": "c1b67d49-c5f6-4c79-d343-d88a7b4e3518"
      },
      "source": [
        "df"
      ],
      "execution_count": null,
      "outputs": [
        {
          "output_type": "execute_result",
          "data": {
            "text/html": [
              "<div>\n",
              "<style scoped>\n",
              "    .dataframe tbody tr th:only-of-type {\n",
              "        vertical-align: middle;\n",
              "    }\n",
              "\n",
              "    .dataframe tbody tr th {\n",
              "        vertical-align: top;\n",
              "    }\n",
              "\n",
              "    .dataframe thead th {\n",
              "        text-align: right;\n",
              "    }\n",
              "</style>\n",
              "<table border=\"1\" class=\"dataframe\">\n",
              "  <thead>\n",
              "    <tr style=\"text-align: right;\">\n",
              "      <th></th>\n",
              "      <th>radius_mean</th>\n",
              "      <th>texture_mean</th>\n",
              "      <th>perimeter_mean</th>\n",
              "      <th>area_mean</th>\n",
              "      <th>smoothness_mean</th>\n",
              "      <th>compactness_mean</th>\n",
              "      <th>concavity_mean</th>\n",
              "      <th>concave points_mean</th>\n",
              "      <th>symmetry_mean</th>\n",
              "      <th>fractal_dimension_mean</th>\n",
              "      <th>radius_se</th>\n",
              "      <th>texture_se</th>\n",
              "      <th>perimeter_se</th>\n",
              "      <th>area_se</th>\n",
              "      <th>smoothness_se</th>\n",
              "      <th>compactness_se</th>\n",
              "      <th>concavity_se</th>\n",
              "      <th>concave points_se</th>\n",
              "      <th>symmetry_se</th>\n",
              "      <th>fractal_dimension_se</th>\n",
              "      <th>radius_worst</th>\n",
              "      <th>texture_worst</th>\n",
              "      <th>perimeter_worst</th>\n",
              "      <th>area_worst</th>\n",
              "      <th>smoothness_worst</th>\n",
              "      <th>compactness_worst</th>\n",
              "      <th>concavity_worst</th>\n",
              "      <th>concave points_worst</th>\n",
              "      <th>symmetry_worst</th>\n",
              "      <th>fractal_dimension_worst</th>\n",
              "    </tr>\n",
              "  </thead>\n",
              "  <tbody>\n",
              "    <tr>\n",
              "      <th>0</th>\n",
              "      <td>17.99</td>\n",
              "      <td>10.38</td>\n",
              "      <td>122.80</td>\n",
              "      <td>1001.0</td>\n",
              "      <td>0.11840</td>\n",
              "      <td>0.27760</td>\n",
              "      <td>0.30010</td>\n",
              "      <td>0.14710</td>\n",
              "      <td>0.2419</td>\n",
              "      <td>0.07871</td>\n",
              "      <td>1.0950</td>\n",
              "      <td>0.9053</td>\n",
              "      <td>8.589</td>\n",
              "      <td>153.40</td>\n",
              "      <td>0.006399</td>\n",
              "      <td>0.04904</td>\n",
              "      <td>0.05373</td>\n",
              "      <td>0.01587</td>\n",
              "      <td>0.03003</td>\n",
              "      <td>0.006193</td>\n",
              "      <td>25.380</td>\n",
              "      <td>17.33</td>\n",
              "      <td>184.60</td>\n",
              "      <td>2019.0</td>\n",
              "      <td>0.16220</td>\n",
              "      <td>0.66560</td>\n",
              "      <td>0.7119</td>\n",
              "      <td>0.2654</td>\n",
              "      <td>0.4601</td>\n",
              "      <td>0.11890</td>\n",
              "    </tr>\n",
              "    <tr>\n",
              "      <th>1</th>\n",
              "      <td>20.57</td>\n",
              "      <td>17.77</td>\n",
              "      <td>132.90</td>\n",
              "      <td>1326.0</td>\n",
              "      <td>0.08474</td>\n",
              "      <td>0.07864</td>\n",
              "      <td>0.08690</td>\n",
              "      <td>0.07017</td>\n",
              "      <td>0.1812</td>\n",
              "      <td>0.05667</td>\n",
              "      <td>0.5435</td>\n",
              "      <td>0.7339</td>\n",
              "      <td>3.398</td>\n",
              "      <td>74.08</td>\n",
              "      <td>0.005225</td>\n",
              "      <td>0.01308</td>\n",
              "      <td>0.01860</td>\n",
              "      <td>0.01340</td>\n",
              "      <td>0.01389</td>\n",
              "      <td>0.003532</td>\n",
              "      <td>24.990</td>\n",
              "      <td>23.41</td>\n",
              "      <td>158.80</td>\n",
              "      <td>1956.0</td>\n",
              "      <td>0.12380</td>\n",
              "      <td>0.18660</td>\n",
              "      <td>0.2416</td>\n",
              "      <td>0.1860</td>\n",
              "      <td>0.2750</td>\n",
              "      <td>0.08902</td>\n",
              "    </tr>\n",
              "    <tr>\n",
              "      <th>2</th>\n",
              "      <td>19.69</td>\n",
              "      <td>21.25</td>\n",
              "      <td>130.00</td>\n",
              "      <td>1203.0</td>\n",
              "      <td>0.10960</td>\n",
              "      <td>0.15990</td>\n",
              "      <td>0.19740</td>\n",
              "      <td>0.12790</td>\n",
              "      <td>0.2069</td>\n",
              "      <td>0.05999</td>\n",
              "      <td>0.7456</td>\n",
              "      <td>0.7869</td>\n",
              "      <td>4.585</td>\n",
              "      <td>94.03</td>\n",
              "      <td>0.006150</td>\n",
              "      <td>0.04006</td>\n",
              "      <td>0.03832</td>\n",
              "      <td>0.02058</td>\n",
              "      <td>0.02250</td>\n",
              "      <td>0.004571</td>\n",
              "      <td>23.570</td>\n",
              "      <td>25.53</td>\n",
              "      <td>152.50</td>\n",
              "      <td>1709.0</td>\n",
              "      <td>0.14440</td>\n",
              "      <td>0.42450</td>\n",
              "      <td>0.4504</td>\n",
              "      <td>0.2430</td>\n",
              "      <td>0.3613</td>\n",
              "      <td>0.08758</td>\n",
              "    </tr>\n",
              "    <tr>\n",
              "      <th>3</th>\n",
              "      <td>11.42</td>\n",
              "      <td>20.38</td>\n",
              "      <td>77.58</td>\n",
              "      <td>386.1</td>\n",
              "      <td>0.14250</td>\n",
              "      <td>0.28390</td>\n",
              "      <td>0.24140</td>\n",
              "      <td>0.10520</td>\n",
              "      <td>0.2597</td>\n",
              "      <td>0.09744</td>\n",
              "      <td>0.4956</td>\n",
              "      <td>1.1560</td>\n",
              "      <td>3.445</td>\n",
              "      <td>27.23</td>\n",
              "      <td>0.009110</td>\n",
              "      <td>0.07458</td>\n",
              "      <td>0.05661</td>\n",
              "      <td>0.01867</td>\n",
              "      <td>0.05963</td>\n",
              "      <td>0.009208</td>\n",
              "      <td>14.910</td>\n",
              "      <td>26.50</td>\n",
              "      <td>98.87</td>\n",
              "      <td>567.7</td>\n",
              "      <td>0.20980</td>\n",
              "      <td>0.86630</td>\n",
              "      <td>0.6869</td>\n",
              "      <td>0.2575</td>\n",
              "      <td>0.6638</td>\n",
              "      <td>0.17300</td>\n",
              "    </tr>\n",
              "    <tr>\n",
              "      <th>4</th>\n",
              "      <td>20.29</td>\n",
              "      <td>14.34</td>\n",
              "      <td>135.10</td>\n",
              "      <td>1297.0</td>\n",
              "      <td>0.10030</td>\n",
              "      <td>0.13280</td>\n",
              "      <td>0.19800</td>\n",
              "      <td>0.10430</td>\n",
              "      <td>0.1809</td>\n",
              "      <td>0.05883</td>\n",
              "      <td>0.7572</td>\n",
              "      <td>0.7813</td>\n",
              "      <td>5.438</td>\n",
              "      <td>94.44</td>\n",
              "      <td>0.011490</td>\n",
              "      <td>0.02461</td>\n",
              "      <td>0.05688</td>\n",
              "      <td>0.01885</td>\n",
              "      <td>0.01756</td>\n",
              "      <td>0.005115</td>\n",
              "      <td>22.540</td>\n",
              "      <td>16.67</td>\n",
              "      <td>152.20</td>\n",
              "      <td>1575.0</td>\n",
              "      <td>0.13740</td>\n",
              "      <td>0.20500</td>\n",
              "      <td>0.4000</td>\n",
              "      <td>0.1625</td>\n",
              "      <td>0.2364</td>\n",
              "      <td>0.07678</td>\n",
              "    </tr>\n",
              "    <tr>\n",
              "      <th>...</th>\n",
              "      <td>...</td>\n",
              "      <td>...</td>\n",
              "      <td>...</td>\n",
              "      <td>...</td>\n",
              "      <td>...</td>\n",
              "      <td>...</td>\n",
              "      <td>...</td>\n",
              "      <td>...</td>\n",
              "      <td>...</td>\n",
              "      <td>...</td>\n",
              "      <td>...</td>\n",
              "      <td>...</td>\n",
              "      <td>...</td>\n",
              "      <td>...</td>\n",
              "      <td>...</td>\n",
              "      <td>...</td>\n",
              "      <td>...</td>\n",
              "      <td>...</td>\n",
              "      <td>...</td>\n",
              "      <td>...</td>\n",
              "      <td>...</td>\n",
              "      <td>...</td>\n",
              "      <td>...</td>\n",
              "      <td>...</td>\n",
              "      <td>...</td>\n",
              "      <td>...</td>\n",
              "      <td>...</td>\n",
              "      <td>...</td>\n",
              "      <td>...</td>\n",
              "      <td>...</td>\n",
              "    </tr>\n",
              "    <tr>\n",
              "      <th>564</th>\n",
              "      <td>21.56</td>\n",
              "      <td>22.39</td>\n",
              "      <td>142.00</td>\n",
              "      <td>1479.0</td>\n",
              "      <td>0.11100</td>\n",
              "      <td>0.11590</td>\n",
              "      <td>0.24390</td>\n",
              "      <td>0.13890</td>\n",
              "      <td>0.1726</td>\n",
              "      <td>0.05623</td>\n",
              "      <td>1.1760</td>\n",
              "      <td>1.2560</td>\n",
              "      <td>7.673</td>\n",
              "      <td>158.70</td>\n",
              "      <td>0.010300</td>\n",
              "      <td>0.02891</td>\n",
              "      <td>0.05198</td>\n",
              "      <td>0.02454</td>\n",
              "      <td>0.01114</td>\n",
              "      <td>0.004239</td>\n",
              "      <td>25.450</td>\n",
              "      <td>26.40</td>\n",
              "      <td>166.10</td>\n",
              "      <td>2027.0</td>\n",
              "      <td>0.14100</td>\n",
              "      <td>0.21130</td>\n",
              "      <td>0.4107</td>\n",
              "      <td>0.2216</td>\n",
              "      <td>0.2060</td>\n",
              "      <td>0.07115</td>\n",
              "    </tr>\n",
              "    <tr>\n",
              "      <th>565</th>\n",
              "      <td>20.13</td>\n",
              "      <td>28.25</td>\n",
              "      <td>131.20</td>\n",
              "      <td>1261.0</td>\n",
              "      <td>0.09780</td>\n",
              "      <td>0.10340</td>\n",
              "      <td>0.14400</td>\n",
              "      <td>0.09791</td>\n",
              "      <td>0.1752</td>\n",
              "      <td>0.05533</td>\n",
              "      <td>0.7655</td>\n",
              "      <td>2.4630</td>\n",
              "      <td>5.203</td>\n",
              "      <td>99.04</td>\n",
              "      <td>0.005769</td>\n",
              "      <td>0.02423</td>\n",
              "      <td>0.03950</td>\n",
              "      <td>0.01678</td>\n",
              "      <td>0.01898</td>\n",
              "      <td>0.002498</td>\n",
              "      <td>23.690</td>\n",
              "      <td>38.25</td>\n",
              "      <td>155.00</td>\n",
              "      <td>1731.0</td>\n",
              "      <td>0.11660</td>\n",
              "      <td>0.19220</td>\n",
              "      <td>0.3215</td>\n",
              "      <td>0.1628</td>\n",
              "      <td>0.2572</td>\n",
              "      <td>0.06637</td>\n",
              "    </tr>\n",
              "    <tr>\n",
              "      <th>566</th>\n",
              "      <td>16.60</td>\n",
              "      <td>28.08</td>\n",
              "      <td>108.30</td>\n",
              "      <td>858.1</td>\n",
              "      <td>0.08455</td>\n",
              "      <td>0.10230</td>\n",
              "      <td>0.09251</td>\n",
              "      <td>0.05302</td>\n",
              "      <td>0.1590</td>\n",
              "      <td>0.05648</td>\n",
              "      <td>0.4564</td>\n",
              "      <td>1.0750</td>\n",
              "      <td>3.425</td>\n",
              "      <td>48.55</td>\n",
              "      <td>0.005903</td>\n",
              "      <td>0.03731</td>\n",
              "      <td>0.04730</td>\n",
              "      <td>0.01557</td>\n",
              "      <td>0.01318</td>\n",
              "      <td>0.003892</td>\n",
              "      <td>18.980</td>\n",
              "      <td>34.12</td>\n",
              "      <td>126.70</td>\n",
              "      <td>1124.0</td>\n",
              "      <td>0.11390</td>\n",
              "      <td>0.30940</td>\n",
              "      <td>0.3403</td>\n",
              "      <td>0.1418</td>\n",
              "      <td>0.2218</td>\n",
              "      <td>0.07820</td>\n",
              "    </tr>\n",
              "    <tr>\n",
              "      <th>567</th>\n",
              "      <td>20.60</td>\n",
              "      <td>29.33</td>\n",
              "      <td>140.10</td>\n",
              "      <td>1265.0</td>\n",
              "      <td>0.11780</td>\n",
              "      <td>0.27700</td>\n",
              "      <td>0.35140</td>\n",
              "      <td>0.15200</td>\n",
              "      <td>0.2397</td>\n",
              "      <td>0.07016</td>\n",
              "      <td>0.7260</td>\n",
              "      <td>1.5950</td>\n",
              "      <td>5.772</td>\n",
              "      <td>86.22</td>\n",
              "      <td>0.006522</td>\n",
              "      <td>0.06158</td>\n",
              "      <td>0.07117</td>\n",
              "      <td>0.01664</td>\n",
              "      <td>0.02324</td>\n",
              "      <td>0.006185</td>\n",
              "      <td>25.740</td>\n",
              "      <td>39.42</td>\n",
              "      <td>184.60</td>\n",
              "      <td>1821.0</td>\n",
              "      <td>0.16500</td>\n",
              "      <td>0.86810</td>\n",
              "      <td>0.9387</td>\n",
              "      <td>0.2650</td>\n",
              "      <td>0.4087</td>\n",
              "      <td>0.12400</td>\n",
              "    </tr>\n",
              "    <tr>\n",
              "      <th>568</th>\n",
              "      <td>7.76</td>\n",
              "      <td>24.54</td>\n",
              "      <td>47.92</td>\n",
              "      <td>181.0</td>\n",
              "      <td>0.05263</td>\n",
              "      <td>0.04362</td>\n",
              "      <td>0.00000</td>\n",
              "      <td>0.00000</td>\n",
              "      <td>0.1587</td>\n",
              "      <td>0.05884</td>\n",
              "      <td>0.3857</td>\n",
              "      <td>1.4280</td>\n",
              "      <td>2.548</td>\n",
              "      <td>19.15</td>\n",
              "      <td>0.007189</td>\n",
              "      <td>0.00466</td>\n",
              "      <td>0.00000</td>\n",
              "      <td>0.00000</td>\n",
              "      <td>0.02676</td>\n",
              "      <td>0.002783</td>\n",
              "      <td>9.456</td>\n",
              "      <td>30.37</td>\n",
              "      <td>59.16</td>\n",
              "      <td>268.6</td>\n",
              "      <td>0.08996</td>\n",
              "      <td>0.06444</td>\n",
              "      <td>0.0000</td>\n",
              "      <td>0.0000</td>\n",
              "      <td>0.2871</td>\n",
              "      <td>0.07039</td>\n",
              "    </tr>\n",
              "  </tbody>\n",
              "</table>\n",
              "<p>569 rows × 30 columns</p>\n",
              "</div>"
            ],
            "text/plain": [
              "     radius_mean  texture_mean  ...  symmetry_worst  fractal_dimension_worst\n",
              "0          17.99         10.38  ...          0.4601                  0.11890\n",
              "1          20.57         17.77  ...          0.2750                  0.08902\n",
              "2          19.69         21.25  ...          0.3613                  0.08758\n",
              "3          11.42         20.38  ...          0.6638                  0.17300\n",
              "4          20.29         14.34  ...          0.2364                  0.07678\n",
              "..           ...           ...  ...             ...                      ...\n",
              "564        21.56         22.39  ...          0.2060                  0.07115\n",
              "565        20.13         28.25  ...          0.2572                  0.06637\n",
              "566        16.60         28.08  ...          0.2218                  0.07820\n",
              "567        20.60         29.33  ...          0.4087                  0.12400\n",
              "568         7.76         24.54  ...          0.2871                  0.07039\n",
              "\n",
              "[569 rows x 30 columns]"
            ]
          },
          "metadata": {
            "tags": []
          },
          "execution_count": 4
        }
      ]
    },
    {
      "cell_type": "code",
      "metadata": {
        "id": "DIQZTjfovslz",
        "colab_type": "code",
        "colab": {}
      },
      "source": [
        "x=df\n",
        "x_train,x_test,y_train,y_test = train_test_split(x,y,stratify=y,test_size=0.1,random_state=4)\n",
        "feature_names = x.columns.tolist()\n",
        "clf=RandomForestClassifier()\n",
        "cv = StratifiedKFold(n_splits=10,shuffle=False)"
      ],
      "execution_count": null,
      "outputs": []
    },
    {
      "cell_type": "code",
      "metadata": {
        "id": "iNr4w4QMCw1h",
        "colab_type": "code",
        "colab": {
          "base_uri": "https://localhost:8080/",
          "height": 167
        },
        "outputId": "1e1462cd-4589-45c2-bc1d-d355d2dacd34"
      },
      "source": [
        "clf.fit(x_train,y_train)"
      ],
      "execution_count": null,
      "outputs": [
        {
          "output_type": "execute_result",
          "data": {
            "text/plain": [
              "RandomForestClassifier(bootstrap=True, ccp_alpha=0.0, class_weight=None,\n",
              "                       criterion='gini', max_depth=None, max_features='auto',\n",
              "                       max_leaf_nodes=None, max_samples=None,\n",
              "                       min_impurity_decrease=0.0, min_impurity_split=None,\n",
              "                       min_samples_leaf=1, min_samples_split=2,\n",
              "                       min_weight_fraction_leaf=0.0, n_estimators=100,\n",
              "                       n_jobs=None, oob_score=False, random_state=None,\n",
              "                       verbose=0, warm_start=False)"
            ]
          },
          "metadata": {
            "tags": []
          },
          "execution_count": 6
        }
      ]
    },
    {
      "cell_type": "code",
      "metadata": {
        "id": "KjutTmf8dL7Z",
        "colab_type": "code",
        "colab": {}
      },
      "source": [
        "y_pred=clf.predict(x_test)"
      ],
      "execution_count": null,
      "outputs": []
    },
    {
      "cell_type": "code",
      "metadata": {
        "id": "maAam95QhbhJ",
        "colab_type": "code",
        "colab": {
          "base_uri": "https://localhost:8080/",
          "height": 1000
        },
        "outputId": "3b9df0ec-6bc6-442f-9bf4-9f96069da129"
      },
      "source": [
        "from sklearn.tree import export_graphviz\n",
        "#100개의 모델들 중 하나\n",
        "estimator=clf.estimators_[0]\n",
        "export_graphviz(estimator, out_file=\"tree.dot\", class_names=[\"양성\", \"악성\"],\n",
        "                feature_names=feature_names,\n",
        "                impurity=False, filled=True)\n",
        "import graphviz\n",
        "\n",
        "with open(\"tree.dot\") as f:\n",
        "    dot_graph = f.read()\n",
        "display(graphviz.Source(dot_graph))"
      ],
      "execution_count": null,
      "outputs": [
        {
          "output_type": "display_data",
          "data": {
            "text/plain": [
              "<graphviz.files.Source at 0x7f79254167b8>"
            ],
            "image/svg+xml": "<?xml version=\"1.0\" encoding=\"UTF-8\" standalone=\"no\"?>\n<!DOCTYPE svg PUBLIC \"-//W3C//DTD SVG 1.1//EN\"\n \"http://www.w3.org/Graphics/SVG/1.1/DTD/svg11.dtd\">\n<!-- Generated by graphviz version 2.40.1 (20161225.0304)\n -->\n<!-- Title: Tree Pages: 1 -->\n<svg width=\"1534pt\" height=\"893pt\"\n viewBox=\"0.00 0.00 1533.50 893.00\" xmlns=\"http://www.w3.org/2000/svg\" xmlns:xlink=\"http://www.w3.org/1999/xlink\">\n<g id=\"graph0\" class=\"graph\" transform=\"scale(1 1) rotate(0) translate(4 889)\">\n<title>Tree</title>\n<polygon fill=\"#ffffff\" stroke=\"transparent\" points=\"-4,4 -4,-889 1529.5,-889 1529.5,4 -4,4\"/>\n<!-- 0 -->\n<g id=\"node1\" class=\"node\">\n<title>0</title>\n<polygon fill=\"#f4c8a9\" stroke=\"#000000\" points=\"980.5,-885 782.5,-885 782.5,-817 980.5,-817 980.5,-885\"/>\n<text text-anchor=\"middle\" x=\"881.5\" y=\"-869.8\" font-family=\"Times,serif\" font-size=\"14.00\" fill=\"#000000\">concave points_mean &lt;= 0.049</text>\n<text text-anchor=\"middle\" x=\"881.5\" y=\"-854.8\" font-family=\"Times,serif\" font-size=\"14.00\" fill=\"#000000\">samples = 331</text>\n<text text-anchor=\"middle\" x=\"881.5\" y=\"-839.8\" font-family=\"Times,serif\" font-size=\"14.00\" fill=\"#000000\">value = [327, 185]</text>\n<text text-anchor=\"middle\" x=\"881.5\" y=\"-824.8\" font-family=\"Times,serif\" font-size=\"14.00\" fill=\"#000000\">class = 양성</text>\n</g>\n<!-- 1 -->\n<g id=\"node2\" class=\"node\">\n<title>1</title>\n<polygon fill=\"#e68844\" stroke=\"#000000\" points=\"863.5,-781 727.5,-781 727.5,-713 863.5,-713 863.5,-781\"/>\n<text text-anchor=\"middle\" x=\"795.5\" y=\"-765.8\" font-family=\"Times,serif\" font-size=\"14.00\" fill=\"#000000\">area_worst &lt;= 960.5</text>\n<text text-anchor=\"middle\" x=\"795.5\" y=\"-750.8\" font-family=\"Times,serif\" font-size=\"14.00\" fill=\"#000000\">samples = 203</text>\n<text text-anchor=\"middle\" x=\"795.5\" y=\"-735.8\" font-family=\"Times,serif\" font-size=\"14.00\" fill=\"#000000\">value = [298, 16]</text>\n<text text-anchor=\"middle\" x=\"795.5\" y=\"-720.8\" font-family=\"Times,serif\" font-size=\"14.00\" fill=\"#000000\">class = 양성</text>\n</g>\n<!-- 0&#45;&gt;1 -->\n<g id=\"edge1\" class=\"edge\">\n<title>0&#45;&gt;1</title>\n<path fill=\"none\" stroke=\"#000000\" d=\"M853.3404,-816.9465C845.9158,-807.968 837.8185,-798.1758 830.0972,-788.8385\"/>\n<polygon fill=\"#000000\" stroke=\"#000000\" points=\"832.7928,-786.606 823.7229,-781.13 827.3983,-791.0669 832.7928,-786.606\"/>\n<text text-anchor=\"middle\" x=\"821.365\" y=\"-802.3186\" font-family=\"Times,serif\" font-size=\"14.00\" fill=\"#000000\">True</text>\n</g>\n<!-- 26 -->\n<g id=\"node27\" class=\"node\">\n<title>26</title>\n<polygon fill=\"#5baee9\" stroke=\"#000000\" points=\"1066,-781 911,-781 911,-713 1066,-713 1066,-781\"/>\n<text text-anchor=\"middle\" x=\"988.5\" y=\"-765.8\" font-family=\"Times,serif\" font-size=\"14.00\" fill=\"#000000\">radius_worst &lt;= 16.345</text>\n<text text-anchor=\"middle\" x=\"988.5\" y=\"-750.8\" font-family=\"Times,serif\" font-size=\"14.00\" fill=\"#000000\">samples = 128</text>\n<text text-anchor=\"middle\" x=\"988.5\" y=\"-735.8\" font-family=\"Times,serif\" font-size=\"14.00\" fill=\"#000000\">value = [29, 169]</text>\n<text text-anchor=\"middle\" x=\"988.5\" y=\"-720.8\" font-family=\"Times,serif\" font-size=\"14.00\" fill=\"#000000\">class = 악성</text>\n</g>\n<!-- 0&#45;&gt;26 -->\n<g id=\"edge26\" class=\"edge\">\n<title>0&#45;&gt;26</title>\n<path fill=\"none\" stroke=\"#000000\" d=\"M916.5358,-816.9465C925.9581,-807.7884 936.2513,-797.7838 946.0304,-788.2788\"/>\n<polygon fill=\"#000000\" stroke=\"#000000\" points=\"948.654,-790.6097 953.3855,-781.13 943.7751,-785.59 948.654,-790.6097\"/>\n<text text-anchor=\"middle\" x=\"953.0301\" y=\"-802.4275\" font-family=\"Times,serif\" font-size=\"14.00\" fill=\"#000000\">False</text>\n</g>\n<!-- 2 -->\n<g id=\"node3\" class=\"node\">\n<title>2</title>\n<polygon fill=\"#e6843d\" stroke=\"#000000\" points=\"658,-677 443,-677 443,-609 658,-609 658,-677\"/>\n<text text-anchor=\"middle\" x=\"550.5\" y=\"-661.8\" font-family=\"Times,serif\" font-size=\"14.00\" fill=\"#000000\">fractal_dimension_worst &lt;= 0.057</text>\n<text text-anchor=\"middle\" x=\"550.5\" y=\"-646.8\" font-family=\"Times,serif\" font-size=\"14.00\" fill=\"#000000\">samples = 195</text>\n<text text-anchor=\"middle\" x=\"550.5\" y=\"-631.8\" font-family=\"Times,serif\" font-size=\"14.00\" fill=\"#000000\">value = [297, 6]</text>\n<text text-anchor=\"middle\" x=\"550.5\" y=\"-616.8\" font-family=\"Times,serif\" font-size=\"14.00\" fill=\"#000000\">class = 양성</text>\n</g>\n<!-- 1&#45;&gt;2 -->\n<g id=\"edge2\" class=\"edge\">\n<title>1&#45;&gt;2</title>\n<path fill=\"none\" stroke=\"#000000\" d=\"M727.2538,-718.0302C700.2961,-706.5869 668.9455,-693.2789 640.197,-681.0755\"/>\n<polygon fill=\"#000000\" stroke=\"#000000\" points=\"641.536,-677.8416 630.9634,-677.1559 638.8008,-684.2851 641.536,-677.8416\"/>\n</g>\n<!-- 21 -->\n<g id=\"node22\" class=\"node\">\n<title>21</title>\n<polygon fill=\"#4da7e8\" stroke=\"#000000\" points=\"870,-677 721,-677 721,-609 870,-609 870,-677\"/>\n<text text-anchor=\"middle\" x=\"795.5\" y=\"-661.8\" font-family=\"Times,serif\" font-size=\"14.00\" fill=\"#000000\">concavity_se &lt;= 0.018</text>\n<text text-anchor=\"middle\" x=\"795.5\" y=\"-646.8\" font-family=\"Times,serif\" font-size=\"14.00\" fill=\"#000000\">samples = 8</text>\n<text text-anchor=\"middle\" x=\"795.5\" y=\"-631.8\" font-family=\"Times,serif\" font-size=\"14.00\" fill=\"#000000\">value = [1, 10]</text>\n<text text-anchor=\"middle\" x=\"795.5\" y=\"-616.8\" font-family=\"Times,serif\" font-size=\"14.00\" fill=\"#000000\">class = 악성</text>\n</g>\n<!-- 1&#45;&gt;21 -->\n<g id=\"edge21\" class=\"edge\">\n<title>1&#45;&gt;21</title>\n<path fill=\"none\" stroke=\"#000000\" d=\"M795.5,-712.9465C795.5,-704.776 795.5,-695.9318 795.5,-687.3697\"/>\n<polygon fill=\"#000000\" stroke=\"#000000\" points=\"799.0001,-687.13 795.5,-677.13 792.0001,-687.13 799.0001,-687.13\"/>\n</g>\n<!-- 3 -->\n<g id=\"node4\" class=\"node\">\n<title>3</title>\n<polygon fill=\"#399de5\" stroke=\"#000000\" points=\"468,-565.5 373,-565.5 373,-512.5 468,-512.5 468,-565.5\"/>\n<text text-anchor=\"middle\" x=\"420.5\" y=\"-550.3\" font-family=\"Times,serif\" font-size=\"14.00\" fill=\"#000000\">samples = 1</text>\n<text text-anchor=\"middle\" x=\"420.5\" y=\"-535.3\" font-family=\"Times,serif\" font-size=\"14.00\" fill=\"#000000\">value = [0, 2]</text>\n<text text-anchor=\"middle\" x=\"420.5\" y=\"-520.3\" font-family=\"Times,serif\" font-size=\"14.00\" fill=\"#000000\">class = 악성</text>\n</g>\n<!-- 2&#45;&gt;3 -->\n<g id=\"edge3\" class=\"edge\">\n<title>2&#45;&gt;3</title>\n<path fill=\"none\" stroke=\"#000000\" d=\"M507.9331,-608.9465C493.063,-597.0504 476.4075,-583.726 461.6546,-571.9237\"/>\n<polygon fill=\"#000000\" stroke=\"#000000\" points=\"463.6729,-569.0561 453.6777,-565.5422 459.3,-574.5222 463.6729,-569.0561\"/>\n</g>\n<!-- 4 -->\n<g id=\"node5\" class=\"node\">\n<title>4</title>\n<polygon fill=\"#e5833c\" stroke=\"#000000\" points=\"614.5,-573 486.5,-573 486.5,-505 614.5,-505 614.5,-573\"/>\n<text text-anchor=\"middle\" x=\"550.5\" y=\"-557.8\" font-family=\"Times,serif\" font-size=\"14.00\" fill=\"#000000\">radius_se &lt;= 0.626</text>\n<text text-anchor=\"middle\" x=\"550.5\" y=\"-542.8\" font-family=\"Times,serif\" font-size=\"14.00\" fill=\"#000000\">samples = 194</text>\n<text text-anchor=\"middle\" x=\"550.5\" y=\"-527.8\" font-family=\"Times,serif\" font-size=\"14.00\" fill=\"#000000\">value = [297, 4]</text>\n<text text-anchor=\"middle\" x=\"550.5\" y=\"-512.8\" font-family=\"Times,serif\" font-size=\"14.00\" fill=\"#000000\">class = 양성</text>\n</g>\n<!-- 2&#45;&gt;4 -->\n<g id=\"edge4\" class=\"edge\">\n<title>2&#45;&gt;4</title>\n<path fill=\"none\" stroke=\"#000000\" d=\"M550.5,-608.9465C550.5,-600.776 550.5,-591.9318 550.5,-583.3697\"/>\n<polygon fill=\"#000000\" stroke=\"#000000\" points=\"554.0001,-583.13 550.5,-573.13 547.0001,-583.13 554.0001,-583.13\"/>\n</g>\n<!-- 5 -->\n<g id=\"node6\" class=\"node\">\n<title>5</title>\n<polygon fill=\"#e5823b\" stroke=\"#000000\" points=\"462,-469 247,-469 247,-401 462,-401 462,-469\"/>\n<text text-anchor=\"middle\" x=\"354.5\" y=\"-453.8\" font-family=\"Times,serif\" font-size=\"14.00\" fill=\"#000000\">fractal_dimension_mean &lt;= 0.053</text>\n<text text-anchor=\"middle\" x=\"354.5\" y=\"-438.8\" font-family=\"Times,serif\" font-size=\"14.00\" fill=\"#000000\">samples = 192</text>\n<text text-anchor=\"middle\" x=\"354.5\" y=\"-423.8\" font-family=\"Times,serif\" font-size=\"14.00\" fill=\"#000000\">value = [296, 3]</text>\n<text text-anchor=\"middle\" x=\"354.5\" y=\"-408.8\" font-family=\"Times,serif\" font-size=\"14.00\" fill=\"#000000\">class = 양성</text>\n</g>\n<!-- 4&#45;&gt;5 -->\n<g id=\"edge5\" class=\"edge\">\n<title>4&#45;&gt;5</title>\n<path fill=\"none\" stroke=\"#000000\" d=\"M486.3223,-504.9465C467.6245,-495.0252 447.0544,-484.1105 427.8375,-473.9138\"/>\n<polygon fill=\"#000000\" stroke=\"#000000\" points=\"429.2959,-470.7255 418.8219,-469.13 426.0149,-476.9089 429.2959,-470.7255\"/>\n</g>\n<!-- 18 -->\n<g id=\"node19\" class=\"node\">\n<title>18</title>\n<polygon fill=\"#ffffff\" stroke=\"#000000\" points=\"635,-469 480,-469 480,-401 635,-401 635,-469\"/>\n<text text-anchor=\"middle\" x=\"557.5\" y=\"-453.8\" font-family=\"Times,serif\" font-size=\"14.00\" fill=\"#000000\">radius_worst &lt;= 12.285</text>\n<text text-anchor=\"middle\" x=\"557.5\" y=\"-438.8\" font-family=\"Times,serif\" font-size=\"14.00\" fill=\"#000000\">samples = 2</text>\n<text text-anchor=\"middle\" x=\"557.5\" y=\"-423.8\" font-family=\"Times,serif\" font-size=\"14.00\" fill=\"#000000\">value = [1, 1]</text>\n<text text-anchor=\"middle\" x=\"557.5\" y=\"-408.8\" font-family=\"Times,serif\" font-size=\"14.00\" fill=\"#000000\">class = 양성</text>\n</g>\n<!-- 4&#45;&gt;18 -->\n<g id=\"edge18\" class=\"edge\">\n<title>4&#45;&gt;18</title>\n<path fill=\"none\" stroke=\"#000000\" d=\"M552.7921,-504.9465C553.342,-496.776 553.9373,-487.9318 554.5136,-479.3697\"/>\n<polygon fill=\"#000000\" stroke=\"#000000\" points=\"558.0232,-479.3425 555.2028,-469.13 551.039,-478.8723 558.0232,-479.3425\"/>\n</g>\n<!-- 6 -->\n<g id=\"node7\" class=\"node\">\n<title>6</title>\n<polygon fill=\"#f2c09c\" stroke=\"#000000\" points=\"237,-365 42,-365 42,-297 237,-297 237,-365\"/>\n<text text-anchor=\"middle\" x=\"139.5\" y=\"-349.8\" font-family=\"Times,serif\" font-size=\"14.00\" fill=\"#000000\">fractal_dimension_se &lt;= 0.002</text>\n<text text-anchor=\"middle\" x=\"139.5\" y=\"-334.8\" font-family=\"Times,serif\" font-size=\"14.00\" fill=\"#000000\">samples = 2</text>\n<text text-anchor=\"middle\" x=\"139.5\" y=\"-319.8\" font-family=\"Times,serif\" font-size=\"14.00\" fill=\"#000000\">value = [2, 1]</text>\n<text text-anchor=\"middle\" x=\"139.5\" y=\"-304.8\" font-family=\"Times,serif\" font-size=\"14.00\" fill=\"#000000\">class = 양성</text>\n</g>\n<!-- 5&#45;&gt;6 -->\n<g id=\"edge6\" class=\"edge\">\n<title>5&#45;&gt;6</title>\n<path fill=\"none\" stroke=\"#000000\" d=\"M284.101,-400.9465C263.3122,-390.8906 240.4135,-379.814 219.0891,-369.4989\"/>\n<polygon fill=\"#000000\" stroke=\"#000000\" points=\"220.5834,-366.3338 210.0572,-365.13 217.5352,-372.6353 220.5834,-366.3338\"/>\n</g>\n<!-- 9 -->\n<g id=\"node10\" class=\"node\">\n<title>9</title>\n<polygon fill=\"#e5823a\" stroke=\"#000000\" points=\"470,-365 255,-365 255,-297 470,-297 470,-365\"/>\n<text text-anchor=\"middle\" x=\"362.5\" y=\"-349.8\" font-family=\"Times,serif\" font-size=\"14.00\" fill=\"#000000\">fractal_dimension_worst &lt;= 0.119</text>\n<text text-anchor=\"middle\" x=\"362.5\" y=\"-334.8\" font-family=\"Times,serif\" font-size=\"14.00\" fill=\"#000000\">samples = 190</text>\n<text text-anchor=\"middle\" x=\"362.5\" y=\"-319.8\" font-family=\"Times,serif\" font-size=\"14.00\" fill=\"#000000\">value = [294, 2]</text>\n<text text-anchor=\"middle\" x=\"362.5\" y=\"-304.8\" font-family=\"Times,serif\" font-size=\"14.00\" fill=\"#000000\">class = 양성</text>\n</g>\n<!-- 5&#45;&gt;9 -->\n<g id=\"edge9\" class=\"edge\">\n<title>5&#45;&gt;9</title>\n<path fill=\"none\" stroke=\"#000000\" d=\"M357.1195,-400.9465C357.748,-392.776 358.4283,-383.9318 359.0869,-375.3697\"/>\n<polygon fill=\"#000000\" stroke=\"#000000\" points=\"362.5973,-375.369 359.8746,-365.13 355.6179,-374.8321 362.5973,-375.369\"/>\n</g>\n<!-- 7 -->\n<g id=\"node8\" class=\"node\">\n<title>7</title>\n<polygon fill=\"#e58139\" stroke=\"#000000\" points=\"95,-253.5 0,-253.5 0,-200.5 95,-200.5 95,-253.5\"/>\n<text text-anchor=\"middle\" x=\"47.5\" y=\"-238.3\" font-family=\"Times,serif\" font-size=\"14.00\" fill=\"#000000\">samples = 1</text>\n<text text-anchor=\"middle\" x=\"47.5\" y=\"-223.3\" font-family=\"Times,serif\" font-size=\"14.00\" fill=\"#000000\">value = [2, 0]</text>\n<text text-anchor=\"middle\" x=\"47.5\" y=\"-208.3\" font-family=\"Times,serif\" font-size=\"14.00\" fill=\"#000000\">class = 양성</text>\n</g>\n<!-- 6&#45;&gt;7 -->\n<g id=\"edge7\" class=\"edge\">\n<title>6&#45;&gt;7</title>\n<path fill=\"none\" stroke=\"#000000\" d=\"M109.3758,-296.9465C99.242,-285.491 87.9367,-272.711 77.7903,-261.2412\"/>\n<polygon fill=\"#000000\" stroke=\"#000000\" points=\"80.2269,-258.7131 70.9796,-253.5422 74.9839,-263.3512 80.2269,-258.7131\"/>\n</g>\n<!-- 8 -->\n<g id=\"node9\" class=\"node\">\n<title>8</title>\n<polygon fill=\"#399de5\" stroke=\"#000000\" points=\"208,-253.5 113,-253.5 113,-200.5 208,-200.5 208,-253.5\"/>\n<text text-anchor=\"middle\" x=\"160.5\" y=\"-238.3\" font-family=\"Times,serif\" font-size=\"14.00\" fill=\"#000000\">samples = 1</text>\n<text text-anchor=\"middle\" x=\"160.5\" y=\"-223.3\" font-family=\"Times,serif\" font-size=\"14.00\" fill=\"#000000\">value = [0, 1]</text>\n<text text-anchor=\"middle\" x=\"160.5\" y=\"-208.3\" font-family=\"Times,serif\" font-size=\"14.00\" fill=\"#000000\">class = 악성</text>\n</g>\n<!-- 6&#45;&gt;8 -->\n<g id=\"edge8\" class=\"edge\">\n<title>6&#45;&gt;8</title>\n<path fill=\"none\" stroke=\"#000000\" d=\"M146.3762,-296.9465C148.5336,-286.2621 150.9237,-274.4254 153.1148,-263.5742\"/>\n<polygon fill=\"#000000\" stroke=\"#000000\" points=\"156.5919,-264.0371 155.1405,-253.5422 149.7304,-262.6516 156.5919,-264.0371\"/>\n</g>\n<!-- 10 -->\n<g id=\"node11\" class=\"node\">\n<title>10</title>\n<polygon fill=\"#e5813a\" stroke=\"#000000\" points=\"418.5,-261 266.5,-261 266.5,-193 418.5,-193 418.5,-261\"/>\n<text text-anchor=\"middle\" x=\"342.5\" y=\"-245.8\" font-family=\"Times,serif\" font-size=\"14.00\" fill=\"#000000\">texture_worst &lt;= 33.35</text>\n<text text-anchor=\"middle\" x=\"342.5\" y=\"-230.8\" font-family=\"Times,serif\" font-size=\"14.00\" fill=\"#000000\">samples = 186</text>\n<text text-anchor=\"middle\" x=\"342.5\" y=\"-215.8\" font-family=\"Times,serif\" font-size=\"14.00\" fill=\"#000000\">value = [291, 1]</text>\n<text text-anchor=\"middle\" x=\"342.5\" y=\"-200.8\" font-family=\"Times,serif\" font-size=\"14.00\" fill=\"#000000\">class = 양성</text>\n</g>\n<!-- 9&#45;&gt;10 -->\n<g id=\"edge10\" class=\"edge\">\n<title>9&#45;&gt;10</title>\n<path fill=\"none\" stroke=\"#000000\" d=\"M355.9513,-296.9465C354.3627,-288.6863 352.6418,-279.7374 350.9784,-271.0875\"/>\n<polygon fill=\"#000000\" stroke=\"#000000\" points=\"354.389,-270.2891 349.0635,-261.13 347.515,-271.6111 354.389,-270.2891\"/>\n</g>\n<!-- 15 -->\n<g id=\"node16\" class=\"node\">\n<title>15</title>\n<polygon fill=\"#eeab7b\" stroke=\"#000000\" points=\"632,-261 437,-261 437,-193 632,-193 632,-261\"/>\n<text text-anchor=\"middle\" x=\"534.5\" y=\"-245.8\" font-family=\"Times,serif\" font-size=\"14.00\" fill=\"#000000\">fractal_dimension_se &lt;= 0.007</text>\n<text text-anchor=\"middle\" x=\"534.5\" y=\"-230.8\" font-family=\"Times,serif\" font-size=\"14.00\" fill=\"#000000\">samples = 4</text>\n<text text-anchor=\"middle\" x=\"534.5\" y=\"-215.8\" font-family=\"Times,serif\" font-size=\"14.00\" fill=\"#000000\">value = [3, 1]</text>\n<text text-anchor=\"middle\" x=\"534.5\" y=\"-200.8\" font-family=\"Times,serif\" font-size=\"14.00\" fill=\"#000000\">class = 양성</text>\n</g>\n<!-- 9&#45;&gt;15 -->\n<g id=\"edge15\" class=\"edge\">\n<title>9&#45;&gt;15</title>\n<path fill=\"none\" stroke=\"#000000\" d=\"M418.8192,-296.9465C435.0048,-287.1599 452.789,-276.4066 469.4552,-266.3294\"/>\n<polygon fill=\"#000000\" stroke=\"#000000\" points=\"471.3079,-269.2993 478.0542,-261.13 467.6859,-263.3092 471.3079,-269.2993\"/>\n</g>\n<!-- 11 -->\n<g id=\"node12\" class=\"node\">\n<title>11</title>\n<polygon fill=\"#e58139\" stroke=\"#000000\" points=\"231.5,-149.5 121.5,-149.5 121.5,-96.5 231.5,-96.5 231.5,-149.5\"/>\n<text text-anchor=\"middle\" x=\"176.5\" y=\"-134.3\" font-family=\"Times,serif\" font-size=\"14.00\" fill=\"#000000\">samples = 171</text>\n<text text-anchor=\"middle\" x=\"176.5\" y=\"-119.3\" font-family=\"Times,serif\" font-size=\"14.00\" fill=\"#000000\">value = [269, 0]</text>\n<text text-anchor=\"middle\" x=\"176.5\" y=\"-104.3\" font-family=\"Times,serif\" font-size=\"14.00\" fill=\"#000000\">class = 양성</text>\n</g>\n<!-- 10&#45;&gt;11 -->\n<g id=\"edge11\" class=\"edge\">\n<title>10&#45;&gt;11</title>\n<path fill=\"none\" stroke=\"#000000\" d=\"M288.1454,-192.9465C268.6299,-180.72 246.7063,-166.9847 227.4871,-154.9437\"/>\n<polygon fill=\"#000000\" stroke=\"#000000\" points=\"229.1979,-151.8854 218.8654,-149.5422 225.4814,-157.8174 229.1979,-151.8854\"/>\n</g>\n<!-- 12 -->\n<g id=\"node13\" class=\"node\">\n<title>12</title>\n<polygon fill=\"#e68742\" stroke=\"#000000\" points=\"449,-157 250,-157 250,-89 449,-89 449,-157\"/>\n<text text-anchor=\"middle\" x=\"349.5\" y=\"-141.8\" font-family=\"Times,serif\" font-size=\"14.00\" fill=\"#000000\">concave points_worst &lt;= 0.092</text>\n<text text-anchor=\"middle\" x=\"349.5\" y=\"-126.8\" font-family=\"Times,serif\" font-size=\"14.00\" fill=\"#000000\">samples = 15</text>\n<text text-anchor=\"middle\" x=\"349.5\" y=\"-111.8\" font-family=\"Times,serif\" font-size=\"14.00\" fill=\"#000000\">value = [22, 1]</text>\n<text text-anchor=\"middle\" x=\"349.5\" y=\"-96.8\" font-family=\"Times,serif\" font-size=\"14.00\" fill=\"#000000\">class = 양성</text>\n</g>\n<!-- 10&#45;&gt;12 -->\n<g id=\"edge12\" class=\"edge\">\n<title>10&#45;&gt;12</title>\n<path fill=\"none\" stroke=\"#000000\" d=\"M344.7921,-192.9465C345.342,-184.776 345.9373,-175.9318 346.5136,-167.3697\"/>\n<polygon fill=\"#000000\" stroke=\"#000000\" points=\"350.0232,-167.3425 347.2028,-157.13 343.039,-166.8723 350.0232,-167.3425\"/>\n</g>\n<!-- 13 -->\n<g id=\"node14\" class=\"node\">\n<title>13</title>\n<polygon fill=\"#e58139\" stroke=\"#000000\" points=\"341.5,-53 239.5,-53 239.5,0 341.5,0 341.5,-53\"/>\n<text text-anchor=\"middle\" x=\"290.5\" y=\"-37.8\" font-family=\"Times,serif\" font-size=\"14.00\" fill=\"#000000\">samples = 14</text>\n<text text-anchor=\"middle\" x=\"290.5\" y=\"-22.8\" font-family=\"Times,serif\" font-size=\"14.00\" fill=\"#000000\">value = [22, 0]</text>\n<text text-anchor=\"middle\" x=\"290.5\" y=\"-7.8\" font-family=\"Times,serif\" font-size=\"14.00\" fill=\"#000000\">class = 양성</text>\n</g>\n<!-- 12&#45;&gt;13 -->\n<g id=\"edge13\" class=\"edge\">\n<title>12&#45;&gt;13</title>\n<path fill=\"none\" stroke=\"#000000\" d=\"M328.6988,-88.9777C323.3242,-80.187 317.5265,-70.7044 312.1115,-61.8477\"/>\n<polygon fill=\"#000000\" stroke=\"#000000\" points=\"315.0564,-59.9545 306.854,-53.2485 309.0842,-63.6059 315.0564,-59.9545\"/>\n</g>\n<!-- 14 -->\n<g id=\"node15\" class=\"node\">\n<title>14</title>\n<polygon fill=\"#399de5\" stroke=\"#000000\" points=\"455,-53 360,-53 360,0 455,0 455,-53\"/>\n<text text-anchor=\"middle\" x=\"407.5\" y=\"-37.8\" font-family=\"Times,serif\" font-size=\"14.00\" fill=\"#000000\">samples = 1</text>\n<text text-anchor=\"middle\" x=\"407.5\" y=\"-22.8\" font-family=\"Times,serif\" font-size=\"14.00\" fill=\"#000000\">value = [0, 1]</text>\n<text text-anchor=\"middle\" x=\"407.5\" y=\"-7.8\" font-family=\"Times,serif\" font-size=\"14.00\" fill=\"#000000\">class = 악성</text>\n</g>\n<!-- 12&#45;&gt;14 -->\n<g id=\"edge14\" class=\"edge\">\n<title>12&#45;&gt;14</title>\n<path fill=\"none\" stroke=\"#000000\" d=\"M369.9486,-88.9777C375.2322,-80.187 380.9316,-70.7044 386.2548,-61.8477\"/>\n<polygon fill=\"#000000\" stroke=\"#000000\" points=\"389.2715,-63.6225 391.4232,-53.2485 383.2718,-60.0165 389.2715,-63.6225\"/>\n</g>\n<!-- 16 -->\n<g id=\"node17\" class=\"node\">\n<title>16</title>\n<polygon fill=\"#399de5\" stroke=\"#000000\" points=\"575,-149.5 480,-149.5 480,-96.5 575,-96.5 575,-149.5\"/>\n<text text-anchor=\"middle\" x=\"527.5\" y=\"-134.3\" font-family=\"Times,serif\" font-size=\"14.00\" fill=\"#000000\">samples = 1</text>\n<text text-anchor=\"middle\" x=\"527.5\" y=\"-119.3\" font-family=\"Times,serif\" font-size=\"14.00\" fill=\"#000000\">value = [0, 1]</text>\n<text text-anchor=\"middle\" x=\"527.5\" y=\"-104.3\" font-family=\"Times,serif\" font-size=\"14.00\" fill=\"#000000\">class = 악성</text>\n</g>\n<!-- 15&#45;&gt;16 -->\n<g id=\"edge16\" class=\"edge\">\n<title>15&#45;&gt;16</title>\n<path fill=\"none\" stroke=\"#000000\" d=\"M532.2079,-192.9465C531.4888,-182.2621 530.6921,-170.4254 529.9617,-159.5742\"/>\n<polygon fill=\"#000000\" stroke=\"#000000\" points=\"533.4502,-159.2845 529.2865,-149.5422 526.466,-159.7547 533.4502,-159.2845\"/>\n</g>\n<!-- 17 -->\n<g id=\"node18\" class=\"node\">\n<title>17</title>\n<polygon fill=\"#e58139\" stroke=\"#000000\" points=\"688,-149.5 593,-149.5 593,-96.5 688,-96.5 688,-149.5\"/>\n<text text-anchor=\"middle\" x=\"640.5\" y=\"-134.3\" font-family=\"Times,serif\" font-size=\"14.00\" fill=\"#000000\">samples = 3</text>\n<text text-anchor=\"middle\" x=\"640.5\" y=\"-119.3\" font-family=\"Times,serif\" font-size=\"14.00\" fill=\"#000000\">value = [3, 0]</text>\n<text text-anchor=\"middle\" x=\"640.5\" y=\"-104.3\" font-family=\"Times,serif\" font-size=\"14.00\" fill=\"#000000\">class = 양성</text>\n</g>\n<!-- 15&#45;&gt;17 -->\n<g id=\"edge17\" class=\"edge\">\n<title>15&#45;&gt;17</title>\n<path fill=\"none\" stroke=\"#000000\" d=\"M569.2084,-192.9465C581.1087,-181.2707 594.4114,-168.219 606.2733,-156.5809\"/>\n<polygon fill=\"#000000\" stroke=\"#000000\" points=\"608.7605,-159.0439 613.4474,-149.5422 603.8581,-154.0473 608.7605,-159.0439\"/>\n</g>\n<!-- 19 -->\n<g id=\"node20\" class=\"node\">\n<title>19</title>\n<polygon fill=\"#e58139\" stroke=\"#000000\" points=\"598,-357.5 503,-357.5 503,-304.5 598,-304.5 598,-357.5\"/>\n<text text-anchor=\"middle\" x=\"550.5\" y=\"-342.3\" font-family=\"Times,serif\" font-size=\"14.00\" fill=\"#000000\">samples = 1</text>\n<text text-anchor=\"middle\" x=\"550.5\" y=\"-327.3\" font-family=\"Times,serif\" font-size=\"14.00\" fill=\"#000000\">value = [1, 0]</text>\n<text text-anchor=\"middle\" x=\"550.5\" y=\"-312.3\" font-family=\"Times,serif\" font-size=\"14.00\" fill=\"#000000\">class = 양성</text>\n</g>\n<!-- 18&#45;&gt;19 -->\n<g id=\"edge19\" class=\"edge\">\n<title>18&#45;&gt;19</title>\n<path fill=\"none\" stroke=\"#000000\" d=\"M555.2079,-400.9465C554.4888,-390.2621 553.6921,-378.4254 552.9617,-367.5742\"/>\n<polygon fill=\"#000000\" stroke=\"#000000\" points=\"556.4502,-367.2845 552.2865,-357.5422 549.466,-367.7547 556.4502,-367.2845\"/>\n</g>\n<!-- 20 -->\n<g id=\"node21\" class=\"node\">\n<title>20</title>\n<polygon fill=\"#399de5\" stroke=\"#000000\" points=\"711,-357.5 616,-357.5 616,-304.5 711,-304.5 711,-357.5\"/>\n<text text-anchor=\"middle\" x=\"663.5\" y=\"-342.3\" font-family=\"Times,serif\" font-size=\"14.00\" fill=\"#000000\">samples = 1</text>\n<text text-anchor=\"middle\" x=\"663.5\" y=\"-327.3\" font-family=\"Times,serif\" font-size=\"14.00\" fill=\"#000000\">value = [0, 1]</text>\n<text text-anchor=\"middle\" x=\"663.5\" y=\"-312.3\" font-family=\"Times,serif\" font-size=\"14.00\" fill=\"#000000\">class = 악성</text>\n</g>\n<!-- 18&#45;&gt;20 -->\n<g id=\"edge20\" class=\"edge\">\n<title>18&#45;&gt;20</title>\n<path fill=\"none\" stroke=\"#000000\" d=\"M592.2084,-400.9465C604.1087,-389.2707 617.4114,-376.219 629.2733,-364.5809\"/>\n<polygon fill=\"#000000\" stroke=\"#000000\" points=\"631.7605,-367.0439 636.4474,-357.5422 626.8581,-362.0473 631.7605,-367.0439\"/>\n</g>\n<!-- 22 -->\n<g id=\"node23\" class=\"node\">\n<title>22</title>\n<polygon fill=\"#399de5\" stroke=\"#000000\" points=\"728,-565.5 633,-565.5 633,-512.5 728,-512.5 728,-565.5\"/>\n<text text-anchor=\"middle\" x=\"680.5\" y=\"-550.3\" font-family=\"Times,serif\" font-size=\"14.00\" fill=\"#000000\">samples = 6</text>\n<text text-anchor=\"middle\" x=\"680.5\" y=\"-535.3\" font-family=\"Times,serif\" font-size=\"14.00\" fill=\"#000000\">value = [0, 9]</text>\n<text text-anchor=\"middle\" x=\"680.5\" y=\"-520.3\" font-family=\"Times,serif\" font-size=\"14.00\" fill=\"#000000\">class = 악성</text>\n</g>\n<!-- 21&#45;&gt;22 -->\n<g id=\"edge22\" class=\"edge\">\n<title>21&#45;&gt;22</title>\n<path fill=\"none\" stroke=\"#000000\" d=\"M757.8447,-608.9465C744.8122,-597.1606 730.2294,-583.9726 717.2689,-572.2519\"/>\n<polygon fill=\"#000000\" stroke=\"#000000\" points=\"719.614,-569.6537 709.8495,-565.5422 714.9188,-574.8456 719.614,-569.6537\"/>\n</g>\n<!-- 23 -->\n<g id=\"node24\" class=\"node\">\n<title>23</title>\n<polygon fill=\"#ffffff\" stroke=\"#000000\" points=\"895,-573 746,-573 746,-505 895,-505 895,-573\"/>\n<text text-anchor=\"middle\" x=\"820.5\" y=\"-557.8\" font-family=\"Times,serif\" font-size=\"14.00\" fill=\"#000000\">concavity_se &lt;= 0.019</text>\n<text text-anchor=\"middle\" x=\"820.5\" y=\"-542.8\" font-family=\"Times,serif\" font-size=\"14.00\" fill=\"#000000\">samples = 2</text>\n<text text-anchor=\"middle\" x=\"820.5\" y=\"-527.8\" font-family=\"Times,serif\" font-size=\"14.00\" fill=\"#000000\">value = [1, 1]</text>\n<text text-anchor=\"middle\" x=\"820.5\" y=\"-512.8\" font-family=\"Times,serif\" font-size=\"14.00\" fill=\"#000000\">class = 양성</text>\n</g>\n<!-- 21&#45;&gt;23 -->\n<g id=\"edge23\" class=\"edge\">\n<title>21&#45;&gt;23</title>\n<path fill=\"none\" stroke=\"#000000\" d=\"M803.6859,-608.9465C805.6716,-600.6863 807.8228,-591.7374 809.902,-583.0875\"/>\n<polygon fill=\"#000000\" stroke=\"#000000\" points=\"813.3614,-583.6711 812.2957,-573.13 806.5553,-582.035 813.3614,-583.6711\"/>\n</g>\n<!-- 24 -->\n<g id=\"node25\" class=\"node\">\n<title>24</title>\n<polygon fill=\"#e58139\" stroke=\"#000000\" points=\"775,-461.5 680,-461.5 680,-408.5 775,-408.5 775,-461.5\"/>\n<text text-anchor=\"middle\" x=\"727.5\" y=\"-446.3\" font-family=\"Times,serif\" font-size=\"14.00\" fill=\"#000000\">samples = 1</text>\n<text text-anchor=\"middle\" x=\"727.5\" y=\"-431.3\" font-family=\"Times,serif\" font-size=\"14.00\" fill=\"#000000\">value = [1, 0]</text>\n<text text-anchor=\"middle\" x=\"727.5\" y=\"-416.3\" font-family=\"Times,serif\" font-size=\"14.00\" fill=\"#000000\">class = 양성</text>\n</g>\n<!-- 23&#45;&gt;24 -->\n<g id=\"edge24\" class=\"edge\">\n<title>23&#45;&gt;24</title>\n<path fill=\"none\" stroke=\"#000000\" d=\"M790.0483,-504.9465C779.8045,-493.491 768.3762,-480.711 758.1195,-469.2412\"/>\n<polygon fill=\"#000000\" stroke=\"#000000\" points=\"760.5097,-466.6634 751.2348,-461.5422 755.2917,-471.3295 760.5097,-466.6634\"/>\n</g>\n<!-- 25 -->\n<g id=\"node26\" class=\"node\">\n<title>25</title>\n<polygon fill=\"#399de5\" stroke=\"#000000\" points=\"888,-461.5 793,-461.5 793,-408.5 888,-408.5 888,-461.5\"/>\n<text text-anchor=\"middle\" x=\"840.5\" y=\"-446.3\" font-family=\"Times,serif\" font-size=\"14.00\" fill=\"#000000\">samples = 1</text>\n<text text-anchor=\"middle\" x=\"840.5\" y=\"-431.3\" font-family=\"Times,serif\" font-size=\"14.00\" fill=\"#000000\">value = [0, 1]</text>\n<text text-anchor=\"middle\" x=\"840.5\" y=\"-416.3\" font-family=\"Times,serif\" font-size=\"14.00\" fill=\"#000000\">class = 악성</text>\n</g>\n<!-- 23&#45;&gt;25 -->\n<g id=\"edge25\" class=\"edge\">\n<title>23&#45;&gt;25</title>\n<path fill=\"none\" stroke=\"#000000\" d=\"M827.0487,-504.9465C829.1035,-494.2621 831.3797,-482.4254 833.4665,-471.5742\"/>\n<polygon fill=\"#000000\" stroke=\"#000000\" points=\"836.9442,-472.0232 835.3957,-461.5422 830.0702,-470.7012 836.9442,-472.0232\"/>\n</g>\n<!-- 27 -->\n<g id=\"node28\" class=\"node\">\n<title>27</title>\n<polygon fill=\"#fefaf7\" stroke=\"#000000\" points=\"1068.5,-677 908.5,-677 908.5,-609 1068.5,-609 1068.5,-677\"/>\n<text text-anchor=\"middle\" x=\"988.5\" y=\"-661.8\" font-family=\"Times,serif\" font-size=\"14.00\" fill=\"#000000\">texture_worst &lt;= 25.745</text>\n<text text-anchor=\"middle\" x=\"988.5\" y=\"-646.8\" font-family=\"Times,serif\" font-size=\"14.00\" fill=\"#000000\">samples = 30</text>\n<text text-anchor=\"middle\" x=\"988.5\" y=\"-631.8\" font-family=\"Times,serif\" font-size=\"14.00\" fill=\"#000000\">value = [25, 24]</text>\n<text text-anchor=\"middle\" x=\"988.5\" y=\"-616.8\" font-family=\"Times,serif\" font-size=\"14.00\" fill=\"#000000\">class = 양성</text>\n</g>\n<!-- 26&#45;&gt;27 -->\n<g id=\"edge27\" class=\"edge\">\n<title>26&#45;&gt;27</title>\n<path fill=\"none\" stroke=\"#000000\" d=\"M988.5,-712.9465C988.5,-704.776 988.5,-695.9318 988.5,-687.3697\"/>\n<polygon fill=\"#000000\" stroke=\"#000000\" points=\"992.0001,-687.13 988.5,-677.13 985.0001,-687.13 992.0001,-687.13\"/>\n</g>\n<!-- 36 -->\n<g id=\"node37\" class=\"node\">\n<title>36</title>\n<polygon fill=\"#3ea0e6\" stroke=\"#000000\" points=\"1384.5,-677 1232.5,-677 1232.5,-609 1384.5,-609 1384.5,-677\"/>\n<text text-anchor=\"middle\" x=\"1308.5\" y=\"-661.8\" font-family=\"Times,serif\" font-size=\"14.00\" fill=\"#000000\">texture_mean &lt;= 14.16</text>\n<text text-anchor=\"middle\" x=\"1308.5\" y=\"-646.8\" font-family=\"Times,serif\" font-size=\"14.00\" fill=\"#000000\">samples = 98</text>\n<text text-anchor=\"middle\" x=\"1308.5\" y=\"-631.8\" font-family=\"Times,serif\" font-size=\"14.00\" fill=\"#000000\">value = [4, 145]</text>\n<text text-anchor=\"middle\" x=\"1308.5\" y=\"-616.8\" font-family=\"Times,serif\" font-size=\"14.00\" fill=\"#000000\">class = 악성</text>\n</g>\n<!-- 26&#45;&gt;36 -->\n<g id=\"edge36\" class=\"edge\">\n<title>26&#45;&gt;36</title>\n<path fill=\"none\" stroke=\"#000000\" d=\"M1066.3716,-721.6917C1113.7205,-706.3033 1174.2346,-686.6363 1222.9205,-670.8133\"/>\n<polygon fill=\"#000000\" stroke=\"#000000\" points=\"1224.064,-674.122 1232.4925,-667.7024 1221.9004,-667.4647 1224.064,-674.122\"/>\n</g>\n<!-- 28 -->\n<g id=\"node29\" class=\"node\">\n<title>28</title>\n<polygon fill=\"#e58139\" stroke=\"#000000\" points=\"1014.5,-565.5 912.5,-565.5 912.5,-512.5 1014.5,-512.5 1014.5,-565.5\"/>\n<text text-anchor=\"middle\" x=\"963.5\" y=\"-550.3\" font-family=\"Times,serif\" font-size=\"14.00\" fill=\"#000000\">samples = 14</text>\n<text text-anchor=\"middle\" x=\"963.5\" y=\"-535.3\" font-family=\"Times,serif\" font-size=\"14.00\" fill=\"#000000\">value = [22, 0]</text>\n<text text-anchor=\"middle\" x=\"963.5\" y=\"-520.3\" font-family=\"Times,serif\" font-size=\"14.00\" fill=\"#000000\">class = 양성</text>\n</g>\n<!-- 27&#45;&gt;28 -->\n<g id=\"edge28\" class=\"edge\">\n<title>27&#45;&gt;28</title>\n<path fill=\"none\" stroke=\"#000000\" d=\"M980.3141,-608.9465C977.7457,-598.2621 974.9003,-586.4254 972.2919,-575.5742\"/>\n<polygon fill=\"#000000\" stroke=\"#000000\" points=\"975.6207,-574.4471 969.8803,-565.5422 968.8146,-576.0833 975.6207,-574.4471\"/>\n</g>\n<!-- 29 -->\n<g id=\"node30\" class=\"node\">\n<title>29</title>\n<polygon fill=\"#52a9e8\" stroke=\"#000000\" points=\"1202,-573 1033,-573 1033,-505 1202,-505 1202,-573\"/>\n<text text-anchor=\"middle\" x=\"1117.5\" y=\"-557.8\" font-family=\"Times,serif\" font-size=\"14.00\" fill=\"#000000\">concavity_worst &lt;= 0.245</text>\n<text text-anchor=\"middle\" x=\"1117.5\" y=\"-542.8\" font-family=\"Times,serif\" font-size=\"14.00\" fill=\"#000000\">samples = 16</text>\n<text text-anchor=\"middle\" x=\"1117.5\" y=\"-527.8\" font-family=\"Times,serif\" font-size=\"14.00\" fill=\"#000000\">value = [3, 24]</text>\n<text text-anchor=\"middle\" x=\"1117.5\" y=\"-512.8\" font-family=\"Times,serif\" font-size=\"14.00\" fill=\"#000000\">class = 악성</text>\n</g>\n<!-- 27&#45;&gt;29 -->\n<g id=\"edge29\" class=\"edge\">\n<title>27&#45;&gt;29</title>\n<path fill=\"none\" stroke=\"#000000\" d=\"M1030.7394,-608.9465C1042.4331,-599.519 1055.2394,-589.1946 1067.337,-579.4415\"/>\n<polygon fill=\"#000000\" stroke=\"#000000\" points=\"1069.5773,-582.1312 1075.1657,-573.13 1065.1838,-576.6816 1069.5773,-582.1312\"/>\n</g>\n<!-- 30 -->\n<g id=\"node31\" class=\"node\">\n<title>30</title>\n<polygon fill=\"#e58139\" stroke=\"#000000\" points=\"1034,-461.5 939,-461.5 939,-408.5 1034,-408.5 1034,-461.5\"/>\n<text text-anchor=\"middle\" x=\"986.5\" y=\"-446.3\" font-family=\"Times,serif\" font-size=\"14.00\" fill=\"#000000\">samples = 1</text>\n<text text-anchor=\"middle\" x=\"986.5\" y=\"-431.3\" font-family=\"Times,serif\" font-size=\"14.00\" fill=\"#000000\">value = [2, 0]</text>\n<text text-anchor=\"middle\" x=\"986.5\" y=\"-416.3\" font-family=\"Times,serif\" font-size=\"14.00\" fill=\"#000000\">class = 양성</text>\n</g>\n<!-- 29&#45;&gt;30 -->\n<g id=\"edge30\" class=\"edge\">\n<title>29&#45;&gt;30</title>\n<path fill=\"none\" stroke=\"#000000\" d=\"M1074.6057,-504.9465C1059.6212,-493.0504 1042.8376,-479.726 1027.9712,-467.9237\"/>\n<polygon fill=\"#000000\" stroke=\"#000000\" points=\"1029.9411,-465.0187 1019.9329,-461.5422 1025.5887,-470.5011 1029.9411,-465.0187\"/>\n</g>\n<!-- 31 -->\n<g id=\"node32\" class=\"node\">\n<title>31</title>\n<polygon fill=\"#41a1e6\" stroke=\"#000000\" points=\"1207,-469 1052,-469 1052,-401 1207,-401 1207,-469\"/>\n<text text-anchor=\"middle\" x=\"1129.5\" y=\"-453.8\" font-family=\"Times,serif\" font-size=\"14.00\" fill=\"#000000\">radius_worst &lt;= 14.855</text>\n<text text-anchor=\"middle\" x=\"1129.5\" y=\"-438.8\" font-family=\"Times,serif\" font-size=\"14.00\" fill=\"#000000\">samples = 15</text>\n<text text-anchor=\"middle\" x=\"1129.5\" y=\"-423.8\" font-family=\"Times,serif\" font-size=\"14.00\" fill=\"#000000\">value = [1, 24]</text>\n<text text-anchor=\"middle\" x=\"1129.5\" y=\"-408.8\" font-family=\"Times,serif\" font-size=\"14.00\" fill=\"#000000\">class = 악성</text>\n</g>\n<!-- 29&#45;&gt;31 -->\n<g id=\"edge31\" class=\"edge\">\n<title>29&#45;&gt;31</title>\n<path fill=\"none\" stroke=\"#000000\" d=\"M1121.4292,-504.9465C1122.3824,-496.6863 1123.4149,-487.7374 1124.413,-479.0875\"/>\n<polygon fill=\"#000000\" stroke=\"#000000\" points=\"1127.8925,-479.4653 1125.5619,-469.13 1120.9387,-478.6629 1127.8925,-479.4653\"/>\n</g>\n<!-- 32 -->\n<g id=\"node33\" class=\"node\">\n<title>32</title>\n<polygon fill=\"#7bbeee\" stroke=\"#000000\" points=\"1141,-365 956,-365 956,-297 1141,-297 1141,-365\"/>\n<text text-anchor=\"middle\" x=\"1048.5\" y=\"-349.8\" font-family=\"Times,serif\" font-size=\"14.00\" fill=\"#000000\">compactness_worst &lt;= 0.263</text>\n<text text-anchor=\"middle\" x=\"1048.5\" y=\"-334.8\" font-family=\"Times,serif\" font-size=\"14.00\" fill=\"#000000\">samples = 3</text>\n<text text-anchor=\"middle\" x=\"1048.5\" y=\"-319.8\" font-family=\"Times,serif\" font-size=\"14.00\" fill=\"#000000\">value = [1, 3]</text>\n<text text-anchor=\"middle\" x=\"1048.5\" y=\"-304.8\" font-family=\"Times,serif\" font-size=\"14.00\" fill=\"#000000\">class = 악성</text>\n</g>\n<!-- 31&#45;&gt;32 -->\n<g id=\"edge32\" class=\"edge\">\n<title>31&#45;&gt;32</title>\n<path fill=\"none\" stroke=\"#000000\" d=\"M1102.9776,-400.9465C1096.0546,-392.0578 1088.5106,-382.3716 1081.304,-373.1188\"/>\n<polygon fill=\"#000000\" stroke=\"#000000\" points=\"1083.988,-370.8688 1075.082,-365.13 1078.4654,-375.1701 1083.988,-370.8688\"/>\n</g>\n<!-- 35 -->\n<g id=\"node36\" class=\"node\">\n<title>35</title>\n<polygon fill=\"#399de5\" stroke=\"#000000\" points=\"1260.5,-357.5 1158.5,-357.5 1158.5,-304.5 1260.5,-304.5 1260.5,-357.5\"/>\n<text text-anchor=\"middle\" x=\"1209.5\" y=\"-342.3\" font-family=\"Times,serif\" font-size=\"14.00\" fill=\"#000000\">samples = 12</text>\n<text text-anchor=\"middle\" x=\"1209.5\" y=\"-327.3\" font-family=\"Times,serif\" font-size=\"14.00\" fill=\"#000000\">value = [0, 21]</text>\n<text text-anchor=\"middle\" x=\"1209.5\" y=\"-312.3\" font-family=\"Times,serif\" font-size=\"14.00\" fill=\"#000000\">class = 악성</text>\n</g>\n<!-- 31&#45;&gt;35 -->\n<g id=\"edge35\" class=\"edge\">\n<title>31&#45;&gt;35</title>\n<path fill=\"none\" stroke=\"#000000\" d=\"M1155.695,-400.9465C1164.4222,-389.6012 1174.1487,-376.9567 1182.9059,-365.5724\"/>\n<polygon fill=\"#000000\" stroke=\"#000000\" points=\"1185.76,-367.6024 1189.083,-357.5422 1180.2116,-363.3344 1185.76,-367.6024\"/>\n</g>\n<!-- 33 -->\n<g id=\"node34\" class=\"node\">\n<title>33</title>\n<polygon fill=\"#e58139\" stroke=\"#000000\" points=\"1039,-253.5 944,-253.5 944,-200.5 1039,-200.5 1039,-253.5\"/>\n<text text-anchor=\"middle\" x=\"991.5\" y=\"-238.3\" font-family=\"Times,serif\" font-size=\"14.00\" fill=\"#000000\">samples = 1</text>\n<text text-anchor=\"middle\" x=\"991.5\" y=\"-223.3\" font-family=\"Times,serif\" font-size=\"14.00\" fill=\"#000000\">value = [1, 0]</text>\n<text text-anchor=\"middle\" x=\"991.5\" y=\"-208.3\" font-family=\"Times,serif\" font-size=\"14.00\" fill=\"#000000\">class = 양성</text>\n</g>\n<!-- 32&#45;&gt;33 -->\n<g id=\"edge33\" class=\"edge\">\n<title>32&#45;&gt;33</title>\n<path fill=\"none\" stroke=\"#000000\" d=\"M1029.8361,-296.9465C1023.7991,-285.9316 1017.0909,-273.6922 1010.9953,-262.5703\"/>\n<polygon fill=\"#000000\" stroke=\"#000000\" points=\"1013.9227,-260.6292 1006.0471,-253.5422 1007.7842,-263.9936 1013.9227,-260.6292\"/>\n</g>\n<!-- 34 -->\n<g id=\"node35\" class=\"node\">\n<title>34</title>\n<polygon fill=\"#399de5\" stroke=\"#000000\" points=\"1152,-253.5 1057,-253.5 1057,-200.5 1152,-200.5 1152,-253.5\"/>\n<text text-anchor=\"middle\" x=\"1104.5\" y=\"-238.3\" font-family=\"Times,serif\" font-size=\"14.00\" fill=\"#000000\">samples = 2</text>\n<text text-anchor=\"middle\" x=\"1104.5\" y=\"-223.3\" font-family=\"Times,serif\" font-size=\"14.00\" fill=\"#000000\">value = [0, 3]</text>\n<text text-anchor=\"middle\" x=\"1104.5\" y=\"-208.3\" font-family=\"Times,serif\" font-size=\"14.00\" fill=\"#000000\">class = 악성</text>\n</g>\n<!-- 32&#45;&gt;34 -->\n<g id=\"edge34\" class=\"edge\">\n<title>32&#45;&gt;34</title>\n<path fill=\"none\" stroke=\"#000000\" d=\"M1066.8365,-296.9465C1072.7676,-285.9316 1079.3581,-273.6922 1085.3468,-262.5703\"/>\n<polygon fill=\"#000000\" stroke=\"#000000\" points=\"1088.5487,-264.0063 1090.2081,-253.5422 1082.3854,-260.6875 1088.5487,-264.0063\"/>\n</g>\n<!-- 37 -->\n<g id=\"node38\" class=\"node\">\n<title>37</title>\n<polygon fill=\"#d7ebfa\" stroke=\"#000000\" points=\"1397.5,-573 1219.5,-573 1219.5,-505 1397.5,-505 1397.5,-573\"/>\n<text text-anchor=\"middle\" x=\"1308.5\" y=\"-557.8\" font-family=\"Times,serif\" font-size=\"14.00\" fill=\"#000000\">smoothness_mean &lt;= 0.111</text>\n<text text-anchor=\"middle\" x=\"1308.5\" y=\"-542.8\" font-family=\"Times,serif\" font-size=\"14.00\" fill=\"#000000\">samples = 4</text>\n<text text-anchor=\"middle\" x=\"1308.5\" y=\"-527.8\" font-family=\"Times,serif\" font-size=\"14.00\" fill=\"#000000\">value = [4, 5]</text>\n<text text-anchor=\"middle\" x=\"1308.5\" y=\"-512.8\" font-family=\"Times,serif\" font-size=\"14.00\" fill=\"#000000\">class = 악성</text>\n</g>\n<!-- 36&#45;&gt;37 -->\n<g id=\"edge37\" class=\"edge\">\n<title>36&#45;&gt;37</title>\n<path fill=\"none\" stroke=\"#000000\" d=\"M1308.5,-608.9465C1308.5,-600.776 1308.5,-591.9318 1308.5,-583.3697\"/>\n<polygon fill=\"#000000\" stroke=\"#000000\" points=\"1312.0001,-583.13 1308.5,-573.13 1305.0001,-583.13 1312.0001,-583.13\"/>\n</g>\n<!-- 40 -->\n<g id=\"node41\" class=\"node\">\n<title>40</title>\n<polygon fill=\"#399de5\" stroke=\"#000000\" points=\"1525.5,-565.5 1415.5,-565.5 1415.5,-512.5 1525.5,-512.5 1525.5,-565.5\"/>\n<text text-anchor=\"middle\" x=\"1470.5\" y=\"-550.3\" font-family=\"Times,serif\" font-size=\"14.00\" fill=\"#000000\">samples = 94</text>\n<text text-anchor=\"middle\" x=\"1470.5\" y=\"-535.3\" font-family=\"Times,serif\" font-size=\"14.00\" fill=\"#000000\">value = [0, 140]</text>\n<text text-anchor=\"middle\" x=\"1470.5\" y=\"-520.3\" font-family=\"Times,serif\" font-size=\"14.00\" fill=\"#000000\">class = 악성</text>\n</g>\n<!-- 36&#45;&gt;40 -->\n<g id=\"edge40\" class=\"edge\">\n<title>36&#45;&gt;40</title>\n<path fill=\"none\" stroke=\"#000000\" d=\"M1361.5449,-608.9465C1380.5043,-596.775 1401.7927,-583.1084 1420.4879,-571.1066\"/>\n<polygon fill=\"#000000\" stroke=\"#000000\" points=\"1422.6311,-573.8898 1429.1555,-565.5422 1418.8495,-567.9992 1422.6311,-573.8898\"/>\n</g>\n<!-- 38 -->\n<g id=\"node39\" class=\"node\">\n<title>38</title>\n<polygon fill=\"#e58139\" stroke=\"#000000\" points=\"1344,-461.5 1249,-461.5 1249,-408.5 1344,-408.5 1344,-461.5\"/>\n<text text-anchor=\"middle\" x=\"1296.5\" y=\"-446.3\" font-family=\"Times,serif\" font-size=\"14.00\" fill=\"#000000\">samples = 2</text>\n<text text-anchor=\"middle\" x=\"1296.5\" y=\"-431.3\" font-family=\"Times,serif\" font-size=\"14.00\" fill=\"#000000\">value = [4, 0]</text>\n<text text-anchor=\"middle\" x=\"1296.5\" y=\"-416.3\" font-family=\"Times,serif\" font-size=\"14.00\" fill=\"#000000\">class = 양성</text>\n</g>\n<!-- 37&#45;&gt;38 -->\n<g id=\"edge38\" class=\"edge\">\n<title>37&#45;&gt;38</title>\n<path fill=\"none\" stroke=\"#000000\" d=\"M1304.5708,-504.9465C1303.3379,-494.2621 1301.9722,-482.4254 1300.7201,-471.5742\"/>\n<polygon fill=\"#000000\" stroke=\"#000000\" points=\"1304.1858,-471.075 1299.5626,-461.5422 1297.232,-471.8775 1304.1858,-471.075\"/>\n</g>\n<!-- 39 -->\n<g id=\"node40\" class=\"node\">\n<title>39</title>\n<polygon fill=\"#399de5\" stroke=\"#000000\" points=\"1457,-461.5 1362,-461.5 1362,-408.5 1457,-408.5 1457,-461.5\"/>\n<text text-anchor=\"middle\" x=\"1409.5\" y=\"-446.3\" font-family=\"Times,serif\" font-size=\"14.00\" fill=\"#000000\">samples = 2</text>\n<text text-anchor=\"middle\" x=\"1409.5\" y=\"-431.3\" font-family=\"Times,serif\" font-size=\"14.00\" fill=\"#000000\">value = [0, 5]</text>\n<text text-anchor=\"middle\" x=\"1409.5\" y=\"-416.3\" font-family=\"Times,serif\" font-size=\"14.00\" fill=\"#000000\">class = 악성</text>\n</g>\n<!-- 37&#45;&gt;39 -->\n<g id=\"edge39\" class=\"edge\">\n<title>37&#45;&gt;39</title>\n<path fill=\"none\" stroke=\"#000000\" d=\"M1341.5712,-504.9465C1352.8032,-493.3809 1365.3463,-480.4652 1376.5675,-468.9107\"/>\n<polygon fill=\"#000000\" stroke=\"#000000\" points=\"1379.2674,-471.1544 1383.7235,-461.5422 1374.2458,-466.2776 1379.2674,-471.1544\"/>\n</g>\n</g>\n</svg>\n"
          },
          "metadata": {
            "tags": []
          }
        }
      ]
    },
    {
      "cell_type": "code",
      "metadata": {
        "id": "WDRhm4IC2pMV",
        "colab_type": "code",
        "colab": {
          "base_uri": "https://localhost:8080/",
          "height": 953
        },
        "outputId": "0e75723d-83d7-4767-c46f-47f651cf3865"
      },
      "source": [
        "from sklearn.tree import export_graphviz\n",
        "#100개의 모델들 중 하나\n",
        "estimator=clf.estimators_[99]\n",
        "export_graphviz(estimator, out_file=\"tree.dot\", class_names=[\"양성\", \"악성\"],\n",
        "                feature_names=feature_names,\n",
        "                impurity=False, filled=True)\n",
        "import graphviz\n",
        "\n",
        "with open(\"tree.dot\") as f:\n",
        "    dot_graph = f.read()\n",
        "display(graphviz.Source(dot_graph))"
      ],
      "execution_count": null,
      "outputs": [
        {
          "output_type": "display_data",
          "data": {
            "text/plain": [
              "<graphviz.files.Source at 0x7f78f20a8438>"
            ],
            "image/svg+xml": "<?xml version=\"1.0\" encoding=\"UTF-8\" standalone=\"no\"?>\n<!DOCTYPE svg PUBLIC \"-//W3C//DTD SVG 1.1//EN\"\n \"http://www.w3.org/Graphics/SVG/1.1/DTD/svg11.dtd\">\n<!-- Generated by graphviz version 2.40.1 (20161225.0304)\n -->\n<!-- Title: Tree Pages: 1 -->\n<svg width=\"2050pt\" height=\"685pt\"\n viewBox=\"0.00 0.00 2050.00 685.00\" xmlns=\"http://www.w3.org/2000/svg\" xmlns:xlink=\"http://www.w3.org/1999/xlink\">\n<g id=\"graph0\" class=\"graph\" transform=\"scale(1 1) rotate(0) translate(4 681)\">\n<title>Tree</title>\n<polygon fill=\"#ffffff\" stroke=\"transparent\" points=\"-4,4 -4,-681 2046,-681 2046,4 -4,4\"/>\n<!-- 0 -->\n<g id=\"node1\" class=\"node\">\n<title>0</title>\n<polygon fill=\"#f6d4bb\" stroke=\"#000000\" points=\"1139.5,-677 972.5,-677 972.5,-609 1139.5,-609 1139.5,-677\"/>\n<text text-anchor=\"middle\" x=\"1056\" y=\"-661.8\" font-family=\"Times,serif\" font-size=\"14.00\" fill=\"#000000\">perimeter_worst &lt;= 106.1</text>\n<text text-anchor=\"middle\" x=\"1056\" y=\"-646.8\" font-family=\"Times,serif\" font-size=\"14.00\" fill=\"#000000\">samples = 325</text>\n<text text-anchor=\"middle\" x=\"1056\" y=\"-631.8\" font-family=\"Times,serif\" font-size=\"14.00\" fill=\"#000000\">value = [309, 203]</text>\n<text text-anchor=\"middle\" x=\"1056\" y=\"-616.8\" font-family=\"Times,serif\" font-size=\"14.00\" fill=\"#000000\">class = 양성</text>\n</g>\n<!-- 1 -->\n<g id=\"node2\" class=\"node\">\n<title>1</title>\n<polygon fill=\"#e78945\" stroke=\"#000000\" points=\"940,-573 780,-573 780,-505 940,-505 940,-573\"/>\n<text text-anchor=\"middle\" x=\"860\" y=\"-557.8\" font-family=\"Times,serif\" font-size=\"14.00\" fill=\"#000000\">texture_worst &lt;= 29.675</text>\n<text text-anchor=\"middle\" x=\"860\" y=\"-542.8\" font-family=\"Times,serif\" font-size=\"14.00\" fill=\"#000000\">samples = 196</text>\n<text text-anchor=\"middle\" x=\"860\" y=\"-527.8\" font-family=\"Times,serif\" font-size=\"14.00\" fill=\"#000000\">value = [290, 18]</text>\n<text text-anchor=\"middle\" x=\"860\" y=\"-512.8\" font-family=\"Times,serif\" font-size=\"14.00\" fill=\"#000000\">class = 양성</text>\n</g>\n<!-- 0&#45;&gt;1 -->\n<g id=\"edge1\" class=\"edge\">\n<title>0&#45;&gt;1</title>\n<path fill=\"none\" stroke=\"#000000\" d=\"M991.8223,-608.9465C973.1245,-599.0252 952.5544,-588.1105 933.3375,-577.9138\"/>\n<polygon fill=\"#000000\" stroke=\"#000000\" points=\"934.7959,-574.7255 924.3219,-573.13 931.5149,-580.9089 934.7959,-574.7255\"/>\n<text text-anchor=\"middle\" x=\"931.6517\" y=\"-593.3314\" font-family=\"Times,serif\" font-size=\"14.00\" fill=\"#000000\">True</text>\n</g>\n<!-- 22 -->\n<g id=\"node23\" class=\"node\">\n<title>22</title>\n<polygon fill=\"#4da7e8\" stroke=\"#000000\" points=\"1317.5,-573 1148.5,-573 1148.5,-505 1317.5,-505 1317.5,-573\"/>\n<text text-anchor=\"middle\" x=\"1233\" y=\"-557.8\" font-family=\"Times,serif\" font-size=\"14.00\" fill=\"#000000\">concavity_worst &lt;= 0.189</text>\n<text text-anchor=\"middle\" x=\"1233\" y=\"-542.8\" font-family=\"Times,serif\" font-size=\"14.00\" fill=\"#000000\">samples = 129</text>\n<text text-anchor=\"middle\" x=\"1233\" y=\"-527.8\" font-family=\"Times,serif\" font-size=\"14.00\" fill=\"#000000\">value = [19, 185]</text>\n<text text-anchor=\"middle\" x=\"1233\" y=\"-512.8\" font-family=\"Times,serif\" font-size=\"14.00\" fill=\"#000000\">class = 악성</text>\n</g>\n<!-- 0&#45;&gt;22 -->\n<g id=\"edge22\" class=\"edge\">\n<title>0&#45;&gt;22</title>\n<path fill=\"none\" stroke=\"#000000\" d=\"M1113.9564,-608.9465C1130.6125,-599.1599 1148.9137,-588.4066 1166.0644,-578.3294\"/>\n<polygon fill=\"#000000\" stroke=\"#000000\" points=\"1168.0646,-581.2136 1174.9134,-573.13 1164.5184,-575.1783 1168.0646,-581.2136\"/>\n<text text-anchor=\"middle\" x=\"1168.6274\" y=\"-593.6268\" font-family=\"Times,serif\" font-size=\"14.00\" fill=\"#000000\">False</text>\n</g>\n<!-- 2 -->\n<g id=\"node3\" class=\"node\">\n<title>2</title>\n<polygon fill=\"#e6843e\" stroke=\"#000000\" points=\"572,-469 392,-469 392,-401 572,-401 572,-469\"/>\n<text text-anchor=\"middle\" x=\"482\" y=\"-453.8\" font-family=\"Times,serif\" font-size=\"14.00\" fill=\"#000000\">smoothness_worst &lt;= 0.179</text>\n<text text-anchor=\"middle\" x=\"482\" y=\"-438.8\" font-family=\"Times,serif\" font-size=\"14.00\" fill=\"#000000\">samples = 164</text>\n<text text-anchor=\"middle\" x=\"482\" y=\"-423.8\" font-family=\"Times,serif\" font-size=\"14.00\" fill=\"#000000\">value = [254, 7]</text>\n<text text-anchor=\"middle\" x=\"482\" y=\"-408.8\" font-family=\"Times,serif\" font-size=\"14.00\" fill=\"#000000\">class = 양성</text>\n</g>\n<!-- 1&#45;&gt;2 -->\n<g id=\"edge2\" class=\"edge\">\n<title>1&#45;&gt;2</title>\n<path fill=\"none\" stroke=\"#000000\" d=\"M779.8359,-516.9443C722.1341,-501.0686 643.9013,-479.5443 582.0955,-462.5395\"/>\n<polygon fill=\"#000000\" stroke=\"#000000\" points=\"582.8929,-459.1289 572.3227,-459.8507 581.036,-465.8781 582.8929,-459.1289\"/>\n</g>\n<!-- 13 -->\n<g id=\"node14\" class=\"node\">\n<title>13</title>\n<polygon fill=\"#eda876\" stroke=\"#000000\" points=\"952.5,-469 767.5,-469 767.5,-401 952.5,-401 952.5,-469\"/>\n<text text-anchor=\"middle\" x=\"860\" y=\"-453.8\" font-family=\"Times,serif\" font-size=\"14.00\" fill=\"#000000\">compactness_mean &lt;= 0.098</text>\n<text text-anchor=\"middle\" x=\"860\" y=\"-438.8\" font-family=\"Times,serif\" font-size=\"14.00\" fill=\"#000000\">samples = 32</text>\n<text text-anchor=\"middle\" x=\"860\" y=\"-423.8\" font-family=\"Times,serif\" font-size=\"14.00\" fill=\"#000000\">value = [36, 11]</text>\n<text text-anchor=\"middle\" x=\"860\" y=\"-408.8\" font-family=\"Times,serif\" font-size=\"14.00\" fill=\"#000000\">class = 양성</text>\n</g>\n<!-- 1&#45;&gt;13 -->\n<g id=\"edge13\" class=\"edge\">\n<title>1&#45;&gt;13</title>\n<path fill=\"none\" stroke=\"#000000\" d=\"M860,-504.9465C860,-496.776 860,-487.9318 860,-479.3697\"/>\n<polygon fill=\"#000000\" stroke=\"#000000\" points=\"863.5001,-479.13 860,-469.13 856.5001,-479.13 863.5001,-479.13\"/>\n</g>\n<!-- 3 -->\n<g id=\"node4\" class=\"node\">\n<title>3</title>\n<polygon fill=\"#e5823b\" stroke=\"#000000\" points=\"363.5,-365 204.5,-365 204.5,-297 363.5,-297 363.5,-365\"/>\n<text text-anchor=\"middle\" x=\"284\" y=\"-349.8\" font-family=\"Times,serif\" font-size=\"14.00\" fill=\"#000000\">texture_mean &lt;= 24.485</text>\n<text text-anchor=\"middle\" x=\"284\" y=\"-334.8\" font-family=\"Times,serif\" font-size=\"14.00\" fill=\"#000000\">samples = 160</text>\n<text text-anchor=\"middle\" x=\"284\" y=\"-319.8\" font-family=\"Times,serif\" font-size=\"14.00\" fill=\"#000000\">value = [252, 3]</text>\n<text text-anchor=\"middle\" x=\"284\" y=\"-304.8\" font-family=\"Times,serif\" font-size=\"14.00\" fill=\"#000000\">class = 양성</text>\n</g>\n<!-- 2&#45;&gt;3 -->\n<g id=\"edge3\" class=\"edge\">\n<title>2&#45;&gt;3</title>\n<path fill=\"none\" stroke=\"#000000\" d=\"M417.1674,-400.9465C398.2788,-391.0252 377.4988,-380.1105 358.0858,-369.9138\"/>\n<polygon fill=\"#000000\" stroke=\"#000000\" points=\"359.4589,-366.6816 348.9783,-365.13 356.2038,-372.8787 359.4589,-366.6816\"/>\n</g>\n<!-- 10 -->\n<g id=\"node11\" class=\"node\">\n<title>10</title>\n<polygon fill=\"#9ccef2\" stroke=\"#000000\" points=\"553.5,-365 410.5,-365 410.5,-297 553.5,-297 553.5,-365\"/>\n<text text-anchor=\"middle\" x=\"482\" y=\"-349.8\" font-family=\"Times,serif\" font-size=\"14.00\" fill=\"#000000\">area_mean &lt;= 321.95</text>\n<text text-anchor=\"middle\" x=\"482\" y=\"-334.8\" font-family=\"Times,serif\" font-size=\"14.00\" fill=\"#000000\">samples = 4</text>\n<text text-anchor=\"middle\" x=\"482\" y=\"-319.8\" font-family=\"Times,serif\" font-size=\"14.00\" fill=\"#000000\">value = [2, 4]</text>\n<text text-anchor=\"middle\" x=\"482\" y=\"-304.8\" font-family=\"Times,serif\" font-size=\"14.00\" fill=\"#000000\">class = 악성</text>\n</g>\n<!-- 2&#45;&gt;10 -->\n<g id=\"edge10\" class=\"edge\">\n<title>2&#45;&gt;10</title>\n<path fill=\"none\" stroke=\"#000000\" d=\"M482,-400.9465C482,-392.776 482,-383.9318 482,-375.3697\"/>\n<polygon fill=\"#000000\" stroke=\"#000000\" points=\"485.5001,-375.13 482,-365.13 478.5001,-375.13 485.5001,-375.13\"/>\n</g>\n<!-- 4 -->\n<g id=\"node5\" class=\"node\">\n<title>4</title>\n<polygon fill=\"#e5823b\" stroke=\"#000000\" points=\"218.5,-261 49.5,-261 49.5,-193 218.5,-193 218.5,-261\"/>\n<text text-anchor=\"middle\" x=\"134\" y=\"-245.8\" font-family=\"Times,serif\" font-size=\"14.00\" fill=\"#000000\">concavity_worst &lt;= 0.462</text>\n<text text-anchor=\"middle\" x=\"134\" y=\"-230.8\" font-family=\"Times,serif\" font-size=\"14.00\" fill=\"#000000\">samples = 159</text>\n<text text-anchor=\"middle\" x=\"134\" y=\"-215.8\" font-family=\"Times,serif\" font-size=\"14.00\" fill=\"#000000\">value = [252, 2]</text>\n<text text-anchor=\"middle\" x=\"134\" y=\"-200.8\" font-family=\"Times,serif\" font-size=\"14.00\" fill=\"#000000\">class = 양성</text>\n</g>\n<!-- 3&#45;&gt;4 -->\n<g id=\"edge4\" class=\"edge\">\n<title>3&#45;&gt;4</title>\n<path fill=\"none\" stroke=\"#000000\" d=\"M234.8844,-296.9465C221.0281,-287.3395 205.8283,-276.8009 191.5261,-266.8848\"/>\n<polygon fill=\"#000000\" stroke=\"#000000\" points=\"193.4382,-263.9515 183.226,-261.13 189.4497,-269.7041 193.4382,-263.9515\"/>\n</g>\n<!-- 9 -->\n<g id=\"node10\" class=\"node\">\n<title>9</title>\n<polygon fill=\"#399de5\" stroke=\"#000000\" points=\"331.5,-253.5 236.5,-253.5 236.5,-200.5 331.5,-200.5 331.5,-253.5\"/>\n<text text-anchor=\"middle\" x=\"284\" y=\"-238.3\" font-family=\"Times,serif\" font-size=\"14.00\" fill=\"#000000\">samples = 1</text>\n<text text-anchor=\"middle\" x=\"284\" y=\"-223.3\" font-family=\"Times,serif\" font-size=\"14.00\" fill=\"#000000\">value = [0, 1]</text>\n<text text-anchor=\"middle\" x=\"284\" y=\"-208.3\" font-family=\"Times,serif\" font-size=\"14.00\" fill=\"#000000\">class = 악성</text>\n</g>\n<!-- 3&#45;&gt;9 -->\n<g id=\"edge9\" class=\"edge\">\n<title>3&#45;&gt;9</title>\n<path fill=\"none\" stroke=\"#000000\" d=\"M284,-296.9465C284,-286.2621 284,-274.4254 284,-263.5742\"/>\n<polygon fill=\"#000000\" stroke=\"#000000\" points=\"287.5001,-263.5421 284,-253.5422 280.5001,-263.5422 287.5001,-263.5421\"/>\n</g>\n<!-- 5 -->\n<g id=\"node6\" class=\"node\">\n<title>5</title>\n<polygon fill=\"#e58139\" stroke=\"#000000\" points=\"110,-149.5 0,-149.5 0,-96.5 110,-96.5 110,-149.5\"/>\n<text text-anchor=\"middle\" x=\"55\" y=\"-134.3\" font-family=\"Times,serif\" font-size=\"14.00\" fill=\"#000000\">samples = 153</text>\n<text text-anchor=\"middle\" x=\"55\" y=\"-119.3\" font-family=\"Times,serif\" font-size=\"14.00\" fill=\"#000000\">value = [244, 0]</text>\n<text text-anchor=\"middle\" x=\"55\" y=\"-104.3\" font-family=\"Times,serif\" font-size=\"14.00\" fill=\"#000000\">class = 양성</text>\n</g>\n<!-- 4&#45;&gt;5 -->\n<g id=\"edge5\" class=\"edge\">\n<title>4&#45;&gt;5</title>\n<path fill=\"none\" stroke=\"#000000\" d=\"M108.1324,-192.9465C99.5143,-181.6012 89.9094,-168.9567 81.2617,-157.5724\"/>\n<polygon fill=\"#000000\" stroke=\"#000000\" points=\"83.9979,-155.3882 75.1618,-149.5422 78.4237,-159.6224 83.9979,-155.3882\"/>\n</g>\n<!-- 6 -->\n<g id=\"node7\" class=\"node\">\n<title>6</title>\n<polygon fill=\"#eca06a\" stroke=\"#000000\" points=\"297.5,-157 128.5,-157 128.5,-89 297.5,-89 297.5,-157\"/>\n<text text-anchor=\"middle\" x=\"213\" y=\"-141.8\" font-family=\"Times,serif\" font-size=\"14.00\" fill=\"#000000\">concavity_worst &lt;= 0.471</text>\n<text text-anchor=\"middle\" x=\"213\" y=\"-126.8\" font-family=\"Times,serif\" font-size=\"14.00\" fill=\"#000000\">samples = 6</text>\n<text text-anchor=\"middle\" x=\"213\" y=\"-111.8\" font-family=\"Times,serif\" font-size=\"14.00\" fill=\"#000000\">value = [8, 2]</text>\n<text text-anchor=\"middle\" x=\"213\" y=\"-96.8\" font-family=\"Times,serif\" font-size=\"14.00\" fill=\"#000000\">class = 양성</text>\n</g>\n<!-- 4&#45;&gt;6 -->\n<g id=\"edge6\" class=\"edge\">\n<title>4&#45;&gt;6</title>\n<path fill=\"none\" stroke=\"#000000\" d=\"M159.8676,-192.9465C166.6196,-184.0578 173.9774,-174.3716 181.0059,-165.1188\"/>\n<polygon fill=\"#000000\" stroke=\"#000000\" points=\"183.8125,-167.2102 187.0743,-157.13 178.2383,-162.976 183.8125,-167.2102\"/>\n</g>\n<!-- 7 -->\n<g id=\"node8\" class=\"node\">\n<title>7</title>\n<polygon fill=\"#399de5\" stroke=\"#000000\" points=\"204.5,-53 109.5,-53 109.5,0 204.5,0 204.5,-53\"/>\n<text text-anchor=\"middle\" x=\"157\" y=\"-37.8\" font-family=\"Times,serif\" font-size=\"14.00\" fill=\"#000000\">samples = 1</text>\n<text text-anchor=\"middle\" x=\"157\" y=\"-22.8\" font-family=\"Times,serif\" font-size=\"14.00\" fill=\"#000000\">value = [0, 2]</text>\n<text text-anchor=\"middle\" x=\"157\" y=\"-7.8\" font-family=\"Times,serif\" font-size=\"14.00\" fill=\"#000000\">class = 악성</text>\n</g>\n<!-- 6&#45;&gt;7 -->\n<g id=\"edge7\" class=\"edge\">\n<title>6&#45;&gt;7</title>\n<path fill=\"none\" stroke=\"#000000\" d=\"M193.2565,-88.9777C188.2083,-80.2786 182.7669,-70.9018 177.6734,-62.1247\"/>\n<polygon fill=\"#000000\" stroke=\"#000000\" points=\"180.5689,-60.1409 172.5224,-53.2485 174.5145,-63.6544 180.5689,-60.1409\"/>\n</g>\n<!-- 8 -->\n<g id=\"node9\" class=\"node\">\n<title>8</title>\n<polygon fill=\"#e58139\" stroke=\"#000000\" points=\"317.5,-53 222.5,-53 222.5,0 317.5,0 317.5,-53\"/>\n<text text-anchor=\"middle\" x=\"270\" y=\"-37.8\" font-family=\"Times,serif\" font-size=\"14.00\" fill=\"#000000\">samples = 5</text>\n<text text-anchor=\"middle\" x=\"270\" y=\"-22.8\" font-family=\"Times,serif\" font-size=\"14.00\" fill=\"#000000\">value = [8, 0]</text>\n<text text-anchor=\"middle\" x=\"270\" y=\"-7.8\" font-family=\"Times,serif\" font-size=\"14.00\" fill=\"#000000\">class = 양성</text>\n</g>\n<!-- 6&#45;&gt;8 -->\n<g id=\"edge8\" class=\"edge\">\n<title>6&#45;&gt;8</title>\n<path fill=\"none\" stroke=\"#000000\" d=\"M233.0961,-88.9777C238.2344,-80.2786 243.773,-70.9018 248.9575,-62.1247\"/>\n<polygon fill=\"#000000\" stroke=\"#000000\" points=\"252.1281,-63.6387 254.2004,-53.2485 246.101,-60.0786 252.1281,-63.6387\"/>\n</g>\n<!-- 11 -->\n<g id=\"node12\" class=\"node\">\n<title>11</title>\n<polygon fill=\"#e58139\" stroke=\"#000000\" points=\"444.5,-253.5 349.5,-253.5 349.5,-200.5 444.5,-200.5 444.5,-253.5\"/>\n<text text-anchor=\"middle\" x=\"397\" y=\"-238.3\" font-family=\"Times,serif\" font-size=\"14.00\" fill=\"#000000\">samples = 2</text>\n<text text-anchor=\"middle\" x=\"397\" y=\"-223.3\" font-family=\"Times,serif\" font-size=\"14.00\" fill=\"#000000\">value = [2, 0]</text>\n<text text-anchor=\"middle\" x=\"397\" y=\"-208.3\" font-family=\"Times,serif\" font-size=\"14.00\" fill=\"#000000\">class = 양성</text>\n</g>\n<!-- 10&#45;&gt;11 -->\n<g id=\"edge11\" class=\"edge\">\n<title>10&#45;&gt;11</title>\n<path fill=\"none\" stroke=\"#000000\" d=\"M454.1678,-296.9465C444.8952,-285.6012 434.5608,-272.9567 425.2563,-261.5724\"/>\n<polygon fill=\"#000000\" stroke=\"#000000\" points=\"427.7315,-259.0701 418.6931,-253.5422 422.3115,-263.5 427.7315,-259.0701\"/>\n</g>\n<!-- 12 -->\n<g id=\"node13\" class=\"node\">\n<title>12</title>\n<polygon fill=\"#399de5\" stroke=\"#000000\" points=\"557.5,-253.5 462.5,-253.5 462.5,-200.5 557.5,-200.5 557.5,-253.5\"/>\n<text text-anchor=\"middle\" x=\"510\" y=\"-238.3\" font-family=\"Times,serif\" font-size=\"14.00\" fill=\"#000000\">samples = 2</text>\n<text text-anchor=\"middle\" x=\"510\" y=\"-223.3\" font-family=\"Times,serif\" font-size=\"14.00\" fill=\"#000000\">value = [0, 4]</text>\n<text text-anchor=\"middle\" x=\"510\" y=\"-208.3\" font-family=\"Times,serif\" font-size=\"14.00\" fill=\"#000000\">class = 악성</text>\n</g>\n<!-- 10&#45;&gt;12 -->\n<g id=\"edge12\" class=\"edge\">\n<title>10&#45;&gt;12</title>\n<path fill=\"none\" stroke=\"#000000\" d=\"M491.1682,-296.9465C494.0745,-286.1519 497.2974,-274.1813 500.2434,-263.2389\"/>\n<polygon fill=\"#000000\" stroke=\"#000000\" points=\"503.6339,-264.1083 502.854,-253.5422 496.8746,-262.2884 503.6339,-264.1083\"/>\n</g>\n<!-- 14 -->\n<g id=\"node15\" class=\"node\">\n<title>14</title>\n<polygon fill=\"#e6853f\" stroke=\"#000000\" points=\"850.5,-365 707.5,-365 707.5,-297 850.5,-297 850.5,-365\"/>\n<text text-anchor=\"middle\" x=\"779\" y=\"-349.8\" font-family=\"Times,serif\" font-size=\"14.00\" fill=\"#000000\">area_worst &lt;= 643.25</text>\n<text text-anchor=\"middle\" x=\"779\" y=\"-334.8\" font-family=\"Times,serif\" font-size=\"14.00\" fill=\"#000000\">samples = 26</text>\n<text text-anchor=\"middle\" x=\"779\" y=\"-319.8\" font-family=\"Times,serif\" font-size=\"14.00\" fill=\"#000000\">value = [35, 1]</text>\n<text text-anchor=\"middle\" x=\"779\" y=\"-304.8\" font-family=\"Times,serif\" font-size=\"14.00\" fill=\"#000000\">class = 양성</text>\n</g>\n<!-- 13&#45;&gt;14 -->\n<g id=\"edge14\" class=\"edge\">\n<title>13&#45;&gt;14</title>\n<path fill=\"none\" stroke=\"#000000\" d=\"M833.4776,-400.9465C826.5546,-392.0578 819.0106,-382.3716 811.804,-373.1188\"/>\n<polygon fill=\"#000000\" stroke=\"#000000\" points=\"814.488,-370.8688 805.582,-365.13 808.9654,-375.1701 814.488,-370.8688\"/>\n</g>\n<!-- 19 -->\n<g id=\"node20\" class=\"node\">\n<title>19</title>\n<polygon fill=\"#4da7e8\" stroke=\"#000000\" points=\"1015,-365 869,-365 869,-297 1015,-297 1015,-365\"/>\n<text text-anchor=\"middle\" x=\"942\" y=\"-349.8\" font-family=\"Times,serif\" font-size=\"14.00\" fill=\"#000000\">perimeter_se &lt;= 2.765</text>\n<text text-anchor=\"middle\" x=\"942\" y=\"-334.8\" font-family=\"Times,serif\" font-size=\"14.00\" fill=\"#000000\">samples = 6</text>\n<text text-anchor=\"middle\" x=\"942\" y=\"-319.8\" font-family=\"Times,serif\" font-size=\"14.00\" fill=\"#000000\">value = [1, 10]</text>\n<text text-anchor=\"middle\" x=\"942\" y=\"-304.8\" font-family=\"Times,serif\" font-size=\"14.00\" fill=\"#000000\">class = 악성</text>\n</g>\n<!-- 13&#45;&gt;19 -->\n<g id=\"edge19\" class=\"edge\">\n<title>13&#45;&gt;19</title>\n<path fill=\"none\" stroke=\"#000000\" d=\"M886.8499,-400.9465C893.8583,-392.0578 901.4955,-382.3716 908.791,-373.1188\"/>\n<polygon fill=\"#000000\" stroke=\"#000000\" points=\"911.6467,-375.1498 915.0898,-365.13 906.1498,-370.8157 911.6467,-375.1498\"/>\n</g>\n<!-- 15 -->\n<g id=\"node16\" class=\"node\">\n<title>15</title>\n<polygon fill=\"#e58139\" stroke=\"#000000\" points=\"678,-253.5 576,-253.5 576,-200.5 678,-200.5 678,-253.5\"/>\n<text text-anchor=\"middle\" x=\"627\" y=\"-238.3\" font-family=\"Times,serif\" font-size=\"14.00\" fill=\"#000000\">samples = 21</text>\n<text text-anchor=\"middle\" x=\"627\" y=\"-223.3\" font-family=\"Times,serif\" font-size=\"14.00\" fill=\"#000000\">value = [28, 0]</text>\n<text text-anchor=\"middle\" x=\"627\" y=\"-208.3\" font-family=\"Times,serif\" font-size=\"14.00\" fill=\"#000000\">class = 양성</text>\n</g>\n<!-- 14&#45;&gt;15 -->\n<g id=\"edge15\" class=\"edge\">\n<title>14&#45;&gt;15</title>\n<path fill=\"none\" stroke=\"#000000\" d=\"M729.2295,-296.9465C711.5209,-284.8301 691.6468,-271.232 674.1632,-259.2696\"/>\n<polygon fill=\"#000000\" stroke=\"#000000\" points=\"676.0219,-256.3005 665.7924,-253.5422 672.0691,-262.0776 676.0219,-256.3005\"/>\n</g>\n<!-- 16 -->\n<g id=\"node17\" class=\"node\">\n<title>16</title>\n<polygon fill=\"#e99355\" stroke=\"#000000\" points=\"870,-261 696,-261 696,-193 870,-193 870,-261\"/>\n<text text-anchor=\"middle\" x=\"783\" y=\"-245.8\" font-family=\"Times,serif\" font-size=\"14.00\" fill=\"#000000\">perimeter_worst &lt;= 94.365</text>\n<text text-anchor=\"middle\" x=\"783\" y=\"-230.8\" font-family=\"Times,serif\" font-size=\"14.00\" fill=\"#000000\">samples = 5</text>\n<text text-anchor=\"middle\" x=\"783\" y=\"-215.8\" font-family=\"Times,serif\" font-size=\"14.00\" fill=\"#000000\">value = [7, 1]</text>\n<text text-anchor=\"middle\" x=\"783\" y=\"-200.8\" font-family=\"Times,serif\" font-size=\"14.00\" fill=\"#000000\">class = 양성</text>\n</g>\n<!-- 14&#45;&gt;16 -->\n<g id=\"edge16\" class=\"edge\">\n<title>14&#45;&gt;16</title>\n<path fill=\"none\" stroke=\"#000000\" d=\"M780.3097,-296.9465C780.624,-288.776 780.9642,-279.9318 781.2935,-271.3697\"/>\n<polygon fill=\"#000000\" stroke=\"#000000\" points=\"784.8003,-271.2572 781.6873,-261.13 777.8055,-270.9881 784.8003,-271.2572\"/>\n</g>\n<!-- 17 -->\n<g id=\"node18\" class=\"node\">\n<title>17</title>\n<polygon fill=\"#399de5\" stroke=\"#000000\" points=\"774.5,-149.5 679.5,-149.5 679.5,-96.5 774.5,-96.5 774.5,-149.5\"/>\n<text text-anchor=\"middle\" x=\"727\" y=\"-134.3\" font-family=\"Times,serif\" font-size=\"14.00\" fill=\"#000000\">samples = 1</text>\n<text text-anchor=\"middle\" x=\"727\" y=\"-119.3\" font-family=\"Times,serif\" font-size=\"14.00\" fill=\"#000000\">value = [0, 1]</text>\n<text text-anchor=\"middle\" x=\"727\" y=\"-104.3\" font-family=\"Times,serif\" font-size=\"14.00\" fill=\"#000000\">class = 악성</text>\n</g>\n<!-- 16&#45;&gt;17 -->\n<g id=\"edge17\" class=\"edge\">\n<title>16&#45;&gt;17</title>\n<path fill=\"none\" stroke=\"#000000\" d=\"M764.6635,-192.9465C758.7324,-181.9316 752.1419,-169.6922 746.1532,-158.5703\"/>\n<polygon fill=\"#000000\" stroke=\"#000000\" points=\"749.1146,-156.6875 741.2919,-149.5422 742.9513,-160.0063 749.1146,-156.6875\"/>\n</g>\n<!-- 18 -->\n<g id=\"node19\" class=\"node\">\n<title>18</title>\n<polygon fill=\"#e58139\" stroke=\"#000000\" points=\"887.5,-149.5 792.5,-149.5 792.5,-96.5 887.5,-96.5 887.5,-149.5\"/>\n<text text-anchor=\"middle\" x=\"840\" y=\"-134.3\" font-family=\"Times,serif\" font-size=\"14.00\" fill=\"#000000\">samples = 4</text>\n<text text-anchor=\"middle\" x=\"840\" y=\"-119.3\" font-family=\"Times,serif\" font-size=\"14.00\" fill=\"#000000\">value = [7, 0]</text>\n<text text-anchor=\"middle\" x=\"840\" y=\"-104.3\" font-family=\"Times,serif\" font-size=\"14.00\" fill=\"#000000\">class = 양성</text>\n</g>\n<!-- 16&#45;&gt;18 -->\n<g id=\"edge18\" class=\"edge\">\n<title>16&#45;&gt;18</title>\n<path fill=\"none\" stroke=\"#000000\" d=\"M801.6639,-192.9465C807.7009,-181.9316 814.4091,-169.6922 820.5047,-158.5703\"/>\n<polygon fill=\"#000000\" stroke=\"#000000\" points=\"823.7158,-159.9936 825.4529,-149.5422 817.5773,-156.6292 823.7158,-159.9936\"/>\n</g>\n<!-- 20 -->\n<g id=\"node21\" class=\"node\">\n<title>20</title>\n<polygon fill=\"#399de5\" stroke=\"#000000\" points=\"990,-253.5 888,-253.5 888,-200.5 990,-200.5 990,-253.5\"/>\n<text text-anchor=\"middle\" x=\"939\" y=\"-238.3\" font-family=\"Times,serif\" font-size=\"14.00\" fill=\"#000000\">samples = 5</text>\n<text text-anchor=\"middle\" x=\"939\" y=\"-223.3\" font-family=\"Times,serif\" font-size=\"14.00\" fill=\"#000000\">value = [0, 10]</text>\n<text text-anchor=\"middle\" x=\"939\" y=\"-208.3\" font-family=\"Times,serif\" font-size=\"14.00\" fill=\"#000000\">class = 악성</text>\n</g>\n<!-- 19&#45;&gt;20 -->\n<g id=\"edge20\" class=\"edge\">\n<title>19&#45;&gt;20</title>\n<path fill=\"none\" stroke=\"#000000\" d=\"M941.0177,-296.9465C940.7095,-286.2621 940.368,-274.4254 940.055,-263.5742\"/>\n<polygon fill=\"#000000\" stroke=\"#000000\" points=\"943.5526,-263.4371 939.7656,-253.5422 936.5555,-263.639 943.5526,-263.4371\"/>\n</g>\n<!-- 21 -->\n<g id=\"node22\" class=\"node\">\n<title>21</title>\n<polygon fill=\"#e58139\" stroke=\"#000000\" points=\"1103.5,-253.5 1008.5,-253.5 1008.5,-200.5 1103.5,-200.5 1103.5,-253.5\"/>\n<text text-anchor=\"middle\" x=\"1056\" y=\"-238.3\" font-family=\"Times,serif\" font-size=\"14.00\" fill=\"#000000\">samples = 1</text>\n<text text-anchor=\"middle\" x=\"1056\" y=\"-223.3\" font-family=\"Times,serif\" font-size=\"14.00\" fill=\"#000000\">value = [1, 0]</text>\n<text text-anchor=\"middle\" x=\"1056\" y=\"-208.3\" font-family=\"Times,serif\" font-size=\"14.00\" fill=\"#000000\">class = 양성</text>\n</g>\n<!-- 19&#45;&gt;21 -->\n<g id=\"edge21\" class=\"edge\">\n<title>19&#45;&gt;21</title>\n<path fill=\"none\" stroke=\"#000000\" d=\"M979.3279,-296.9465C992.1263,-285.2707 1006.433,-272.219 1019.1901,-260.5809\"/>\n<polygon fill=\"#000000\" stroke=\"#000000\" points=\"1021.8769,-262.8675 1026.9057,-253.5422 1017.1591,-257.6961 1021.8769,-262.8675\"/>\n</g>\n<!-- 23 -->\n<g id=\"node24\" class=\"node\">\n<title>23</title>\n<polygon fill=\"#ea9a61\" stroke=\"#000000\" points=\"1317.5,-469 1148.5,-469 1148.5,-401 1317.5,-401 1317.5,-469\"/>\n<text text-anchor=\"middle\" x=\"1233\" y=\"-453.8\" font-family=\"Times,serif\" font-size=\"14.00\" fill=\"#000000\">concavity_worst &lt;= 0.158</text>\n<text text-anchor=\"middle\" x=\"1233\" y=\"-438.8\" font-family=\"Times,serif\" font-size=\"14.00\" fill=\"#000000\">samples = 8</text>\n<text text-anchor=\"middle\" x=\"1233\" y=\"-423.8\" font-family=\"Times,serif\" font-size=\"14.00\" fill=\"#000000\">value = [10, 2]</text>\n<text text-anchor=\"middle\" x=\"1233\" y=\"-408.8\" font-family=\"Times,serif\" font-size=\"14.00\" fill=\"#000000\">class = 양성</text>\n</g>\n<!-- 22&#45;&gt;23 -->\n<g id=\"edge23\" class=\"edge\">\n<title>22&#45;&gt;23</title>\n<path fill=\"none\" stroke=\"#000000\" d=\"M1233,-504.9465C1233,-496.776 1233,-487.9318 1233,-479.3697\"/>\n<polygon fill=\"#000000\" stroke=\"#000000\" points=\"1236.5001,-479.13 1233,-469.13 1229.5001,-479.13 1236.5001,-479.13\"/>\n</g>\n<!-- 28 -->\n<g id=\"node29\" class=\"node\">\n<title>28</title>\n<polygon fill=\"#43a2e6\" stroke=\"#000000\" points=\"1552.5,-469 1393.5,-469 1393.5,-401 1552.5,-401 1552.5,-469\"/>\n<text text-anchor=\"middle\" x=\"1473\" y=\"-453.8\" font-family=\"Times,serif\" font-size=\"14.00\" fill=\"#000000\">texture_mean &lt;= 15.375</text>\n<text text-anchor=\"middle\" x=\"1473\" y=\"-438.8\" font-family=\"Times,serif\" font-size=\"14.00\" fill=\"#000000\">samples = 121</text>\n<text text-anchor=\"middle\" x=\"1473\" y=\"-423.8\" font-family=\"Times,serif\" font-size=\"14.00\" fill=\"#000000\">value = [9, 183]</text>\n<text text-anchor=\"middle\" x=\"1473\" y=\"-408.8\" font-family=\"Times,serif\" font-size=\"14.00\" fill=\"#000000\">class = 악성</text>\n</g>\n<!-- 22&#45;&gt;28 -->\n<g id=\"edge28\" class=\"edge\">\n<title>22&#45;&gt;28</title>\n<path fill=\"none\" stroke=\"#000000\" d=\"M1311.585,-504.9465C1334.9982,-494.8008 1360.809,-483.6161 1384.7935,-473.2228\"/>\n<polygon fill=\"#000000\" stroke=\"#000000\" points=\"1386.4546,-476.3176 1394.2385,-469.13 1383.6713,-469.8947 1386.4546,-476.3176\"/>\n</g>\n<!-- 24 -->\n<g id=\"node25\" class=\"node\">\n<title>24</title>\n<polygon fill=\"#9ccef2\" stroke=\"#000000\" points=\"1261.5,-365 1082.5,-365 1082.5,-297 1261.5,-297 1261.5,-365\"/>\n<text text-anchor=\"middle\" x=\"1172\" y=\"-349.8\" font-family=\"Times,serif\" font-size=\"14.00\" fill=\"#000000\">concave points_se &lt;= 0.008</text>\n<text text-anchor=\"middle\" x=\"1172\" y=\"-334.8\" font-family=\"Times,serif\" font-size=\"14.00\" fill=\"#000000\">samples = 3</text>\n<text text-anchor=\"middle\" x=\"1172\" y=\"-319.8\" font-family=\"Times,serif\" font-size=\"14.00\" fill=\"#000000\">value = [1, 2]</text>\n<text text-anchor=\"middle\" x=\"1172\" y=\"-304.8\" font-family=\"Times,serif\" font-size=\"14.00\" fill=\"#000000\">class = 악성</text>\n</g>\n<!-- 23&#45;&gt;24 -->\n<g id=\"edge24\" class=\"edge\">\n<title>23&#45;&gt;24</title>\n<path fill=\"none\" stroke=\"#000000\" d=\"M1213.0263,-400.9465C1207.9707,-392.3271 1202.4753,-382.9579 1197.1983,-373.9611\"/>\n<polygon fill=\"#000000\" stroke=\"#000000\" points=\"1200.0969,-371.985 1192.0186,-365.13 1194.0589,-375.5265 1200.0969,-371.985\"/>\n</g>\n<!-- 27 -->\n<g id=\"node28\" class=\"node\">\n<title>27</title>\n<polygon fill=\"#e58139\" stroke=\"#000000\" points=\"1374.5,-357.5 1279.5,-357.5 1279.5,-304.5 1374.5,-304.5 1374.5,-357.5\"/>\n<text text-anchor=\"middle\" x=\"1327\" y=\"-342.3\" font-family=\"Times,serif\" font-size=\"14.00\" fill=\"#000000\">samples = 5</text>\n<text text-anchor=\"middle\" x=\"1327\" y=\"-327.3\" font-family=\"Times,serif\" font-size=\"14.00\" fill=\"#000000\">value = [9, 0]</text>\n<text text-anchor=\"middle\" x=\"1327\" y=\"-312.3\" font-family=\"Times,serif\" font-size=\"14.00\" fill=\"#000000\">class = 양성</text>\n</g>\n<!-- 23&#45;&gt;27 -->\n<g id=\"edge27\" class=\"edge\">\n<title>23&#45;&gt;27</title>\n<path fill=\"none\" stroke=\"#000000\" d=\"M1263.7791,-400.9465C1274.1331,-389.491 1285.6842,-376.711 1296.0513,-365.2412\"/>\n<polygon fill=\"#000000\" stroke=\"#000000\" points=\"1298.9011,-367.3078 1303.01,-357.5422 1293.708,-362.614 1298.9011,-367.3078\"/>\n</g>\n<!-- 25 -->\n<g id=\"node26\" class=\"node\">\n<title>25</title>\n<polygon fill=\"#e58139\" stroke=\"#000000\" points=\"1216.5,-253.5 1121.5,-253.5 1121.5,-200.5 1216.5,-200.5 1216.5,-253.5\"/>\n<text text-anchor=\"middle\" x=\"1169\" y=\"-238.3\" font-family=\"Times,serif\" font-size=\"14.00\" fill=\"#000000\">samples = 1</text>\n<text text-anchor=\"middle\" x=\"1169\" y=\"-223.3\" font-family=\"Times,serif\" font-size=\"14.00\" fill=\"#000000\">value = [1, 0]</text>\n<text text-anchor=\"middle\" x=\"1169\" y=\"-208.3\" font-family=\"Times,serif\" font-size=\"14.00\" fill=\"#000000\">class = 양성</text>\n</g>\n<!-- 24&#45;&gt;25 -->\n<g id=\"edge25\" class=\"edge\">\n<title>24&#45;&gt;25</title>\n<path fill=\"none\" stroke=\"#000000\" d=\"M1171.0177,-296.9465C1170.7095,-286.2621 1170.368,-274.4254 1170.055,-263.5742\"/>\n<polygon fill=\"#000000\" stroke=\"#000000\" points=\"1173.5526,-263.4371 1169.7656,-253.5422 1166.5555,-263.639 1173.5526,-263.4371\"/>\n</g>\n<!-- 26 -->\n<g id=\"node27\" class=\"node\">\n<title>26</title>\n<polygon fill=\"#399de5\" stroke=\"#000000\" points=\"1329.5,-253.5 1234.5,-253.5 1234.5,-200.5 1329.5,-200.5 1329.5,-253.5\"/>\n<text text-anchor=\"middle\" x=\"1282\" y=\"-238.3\" font-family=\"Times,serif\" font-size=\"14.00\" fill=\"#000000\">samples = 2</text>\n<text text-anchor=\"middle\" x=\"1282\" y=\"-223.3\" font-family=\"Times,serif\" font-size=\"14.00\" fill=\"#000000\">value = [0, 2]</text>\n<text text-anchor=\"middle\" x=\"1282\" y=\"-208.3\" font-family=\"Times,serif\" font-size=\"14.00\" fill=\"#000000\">class = 악성</text>\n</g>\n<!-- 24&#45;&gt;26 -->\n<g id=\"edge26\" class=\"edge\">\n<title>24&#45;&gt;26</title>\n<path fill=\"none\" stroke=\"#000000\" d=\"M1208.0181,-296.9465C1220.3675,-285.2707 1234.1722,-272.219 1246.4817,-260.5809\"/>\n<polygon fill=\"#000000\" stroke=\"#000000\" points=\"1249.0646,-262.9556 1253.9266,-253.5422 1244.2555,-257.869 1249.0646,-262.9556\"/>\n</g>\n<!-- 29 -->\n<g id=\"node30\" class=\"node\">\n<title>29</title>\n<polygon fill=\"#f4c9aa\" stroke=\"#000000\" points=\"1550.5,-365 1395.5,-365 1395.5,-297 1550.5,-297 1550.5,-365\"/>\n<text text-anchor=\"middle\" x=\"1473\" y=\"-349.8\" font-family=\"Times,serif\" font-size=\"14.00\" fill=\"#000000\">radius_mean &lt;= 15.365</text>\n<text text-anchor=\"middle\" x=\"1473\" y=\"-334.8\" font-family=\"Times,serif\" font-size=\"14.00\" fill=\"#000000\">samples = 10</text>\n<text text-anchor=\"middle\" x=\"1473\" y=\"-319.8\" font-family=\"Times,serif\" font-size=\"14.00\" fill=\"#000000\">value = [7, 4]</text>\n<text text-anchor=\"middle\" x=\"1473\" y=\"-304.8\" font-family=\"Times,serif\" font-size=\"14.00\" fill=\"#000000\">class = 양성</text>\n</g>\n<!-- 28&#45;&gt;29 -->\n<g id=\"edge29\" class=\"edge\">\n<title>28&#45;&gt;29</title>\n<path fill=\"none\" stroke=\"#000000\" d=\"M1473,-400.9465C1473,-392.776 1473,-383.9318 1473,-375.3697\"/>\n<polygon fill=\"#000000\" stroke=\"#000000\" points=\"1476.5001,-375.13 1473,-365.13 1469.5001,-375.13 1476.5001,-375.13\"/>\n</g>\n<!-- 32 -->\n<g id=\"node33\" class=\"node\">\n<title>32</title>\n<polygon fill=\"#3b9ee5\" stroke=\"#000000\" points=\"1734,-365 1574,-365 1574,-297 1734,-297 1734,-365\"/>\n<text text-anchor=\"middle\" x=\"1654\" y=\"-349.8\" font-family=\"Times,serif\" font-size=\"14.00\" fill=\"#000000\">smoothness_se &lt;= 0.004</text>\n<text text-anchor=\"middle\" x=\"1654\" y=\"-334.8\" font-family=\"Times,serif\" font-size=\"14.00\" fill=\"#000000\">samples = 111</text>\n<text text-anchor=\"middle\" x=\"1654\" y=\"-319.8\" font-family=\"Times,serif\" font-size=\"14.00\" fill=\"#000000\">value = [2, 179]</text>\n<text text-anchor=\"middle\" x=\"1654\" y=\"-304.8\" font-family=\"Times,serif\" font-size=\"14.00\" fill=\"#000000\">class = 악성</text>\n</g>\n<!-- 28&#45;&gt;32 -->\n<g id=\"edge32\" class=\"edge\">\n<title>28&#45;&gt;32</title>\n<path fill=\"none\" stroke=\"#000000\" d=\"M1532.2662,-400.9465C1549.2986,-391.1599 1568.0134,-380.4066 1585.5517,-370.3294\"/>\n<polygon fill=\"#000000\" stroke=\"#000000\" points=\"1587.6738,-373.1468 1594.6007,-365.13 1584.1863,-367.0773 1587.6738,-373.1468\"/>\n</g>\n<!-- 30 -->\n<g id=\"node31\" class=\"node\">\n<title>30</title>\n<polygon fill=\"#e58139\" stroke=\"#000000\" points=\"1442.5,-253.5 1347.5,-253.5 1347.5,-200.5 1442.5,-200.5 1442.5,-253.5\"/>\n<text text-anchor=\"middle\" x=\"1395\" y=\"-238.3\" font-family=\"Times,serif\" font-size=\"14.00\" fill=\"#000000\">samples = 6</text>\n<text text-anchor=\"middle\" x=\"1395\" y=\"-223.3\" font-family=\"Times,serif\" font-size=\"14.00\" fill=\"#000000\">value = [7, 0]</text>\n<text text-anchor=\"middle\" x=\"1395\" y=\"-208.3\" font-family=\"Times,serif\" font-size=\"14.00\" fill=\"#000000\">class = 양성</text>\n</g>\n<!-- 29&#45;&gt;30 -->\n<g id=\"edge30\" class=\"edge\">\n<title>29&#45;&gt;30</title>\n<path fill=\"none\" stroke=\"#000000\" d=\"M1447.4599,-296.9465C1438.9509,-285.6012 1429.4675,-272.9567 1420.9293,-261.5724\"/>\n<polygon fill=\"#000000\" stroke=\"#000000\" points=\"1423.7067,-259.4422 1414.9066,-253.5422 1418.1067,-263.6422 1423.7067,-259.4422\"/>\n</g>\n<!-- 31 -->\n<g id=\"node32\" class=\"node\">\n<title>31</title>\n<polygon fill=\"#399de5\" stroke=\"#000000\" points=\"1555.5,-253.5 1460.5,-253.5 1460.5,-200.5 1555.5,-200.5 1555.5,-253.5\"/>\n<text text-anchor=\"middle\" x=\"1508\" y=\"-238.3\" font-family=\"Times,serif\" font-size=\"14.00\" fill=\"#000000\">samples = 4</text>\n<text text-anchor=\"middle\" x=\"1508\" y=\"-223.3\" font-family=\"Times,serif\" font-size=\"14.00\" fill=\"#000000\">value = [0, 4]</text>\n<text text-anchor=\"middle\" x=\"1508\" y=\"-208.3\" font-family=\"Times,serif\" font-size=\"14.00\" fill=\"#000000\">class = 악성</text>\n</g>\n<!-- 29&#45;&gt;31 -->\n<g id=\"edge31\" class=\"edge\">\n<title>29&#45;&gt;31</title>\n<path fill=\"none\" stroke=\"#000000\" d=\"M1484.4603,-296.9465C1488.0931,-286.1519 1492.1217,-274.1813 1495.8042,-263.2389\"/>\n<polygon fill=\"#000000\" stroke=\"#000000\" points=\"1499.1951,-264.1362 1499.0675,-253.5422 1492.5607,-261.9035 1499.1951,-264.1362\"/>\n</g>\n<!-- 33 -->\n<g id=\"node34\" class=\"node\">\n<title>33</title>\n<polygon fill=\"#52a9e8\" stroke=\"#000000\" points=\"1734,-261 1574,-261 1574,-193 1734,-193 1734,-261\"/>\n<text text-anchor=\"middle\" x=\"1654\" y=\"-245.8\" font-family=\"Times,serif\" font-size=\"14.00\" fill=\"#000000\">texture_worst &lt;= 20.665</text>\n<text text-anchor=\"middle\" x=\"1654\" y=\"-230.8\" font-family=\"Times,serif\" font-size=\"14.00\" fill=\"#000000\">samples = 9</text>\n<text text-anchor=\"middle\" x=\"1654\" y=\"-215.8\" font-family=\"Times,serif\" font-size=\"14.00\" fill=\"#000000\">value = [1, 8]</text>\n<text text-anchor=\"middle\" x=\"1654\" y=\"-200.8\" font-family=\"Times,serif\" font-size=\"14.00\" fill=\"#000000\">class = 악성</text>\n</g>\n<!-- 32&#45;&gt;33 -->\n<g id=\"edge33\" class=\"edge\">\n<title>32&#45;&gt;33</title>\n<path fill=\"none\" stroke=\"#000000\" d=\"M1654,-296.9465C1654,-288.776 1654,-279.9318 1654,-271.3697\"/>\n<polygon fill=\"#000000\" stroke=\"#000000\" points=\"1657.5001,-271.13 1654,-261.13 1650.5001,-271.13 1657.5001,-271.13\"/>\n</g>\n<!-- 36 -->\n<g id=\"node37\" class=\"node\">\n<title>36</title>\n<polygon fill=\"#3a9ee5\" stroke=\"#000000\" points=\"1907.5,-261 1752.5,-261 1752.5,-193 1907.5,-193 1907.5,-261\"/>\n<text text-anchor=\"middle\" x=\"1830\" y=\"-245.8\" font-family=\"Times,serif\" font-size=\"14.00\" fill=\"#000000\">radius_worst &lt;= 16.265</text>\n<text text-anchor=\"middle\" x=\"1830\" y=\"-230.8\" font-family=\"Times,serif\" font-size=\"14.00\" fill=\"#000000\">samples = 102</text>\n<text text-anchor=\"middle\" x=\"1830\" y=\"-215.8\" font-family=\"Times,serif\" font-size=\"14.00\" fill=\"#000000\">value = [1, 171]</text>\n<text text-anchor=\"middle\" x=\"1830\" y=\"-200.8\" font-family=\"Times,serif\" font-size=\"14.00\" fill=\"#000000\">class = 악성</text>\n</g>\n<!-- 32&#45;&gt;36 -->\n<g id=\"edge36\" class=\"edge\">\n<title>32&#45;&gt;36</title>\n<path fill=\"none\" stroke=\"#000000\" d=\"M1711.629,-296.9465C1728.1909,-287.1599 1746.3888,-276.4066 1763.4425,-266.3294\"/>\n<polygon fill=\"#000000\" stroke=\"#000000\" points=\"1765.4128,-269.2306 1772.2415,-261.13 1761.8517,-263.2041 1765.4128,-269.2306\"/>\n</g>\n<!-- 34 -->\n<g id=\"node35\" class=\"node\">\n<title>34</title>\n<polygon fill=\"#e58139\" stroke=\"#000000\" points=\"1593.5,-149.5 1498.5,-149.5 1498.5,-96.5 1593.5,-96.5 1593.5,-149.5\"/>\n<text text-anchor=\"middle\" x=\"1546\" y=\"-134.3\" font-family=\"Times,serif\" font-size=\"14.00\" fill=\"#000000\">samples = 1</text>\n<text text-anchor=\"middle\" x=\"1546\" y=\"-119.3\" font-family=\"Times,serif\" font-size=\"14.00\" fill=\"#000000\">value = [1, 0]</text>\n<text text-anchor=\"middle\" x=\"1546\" y=\"-104.3\" font-family=\"Times,serif\" font-size=\"14.00\" fill=\"#000000\">class = 양성</text>\n</g>\n<!-- 33&#45;&gt;34 -->\n<g id=\"edge34\" class=\"edge\">\n<title>33&#45;&gt;34</title>\n<path fill=\"none\" stroke=\"#000000\" d=\"M1618.6368,-192.9465C1606.5119,-181.2707 1592.9582,-168.219 1580.8725,-156.5809\"/>\n<polygon fill=\"#000000\" stroke=\"#000000\" points=\"1583.194,-153.9575 1573.563,-149.5422 1578.3385,-158.9997 1583.194,-153.9575\"/>\n</g>\n<!-- 35 -->\n<g id=\"node36\" class=\"node\">\n<title>35</title>\n<polygon fill=\"#399de5\" stroke=\"#000000\" points=\"1706.5,-149.5 1611.5,-149.5 1611.5,-96.5 1706.5,-96.5 1706.5,-149.5\"/>\n<text text-anchor=\"middle\" x=\"1659\" y=\"-134.3\" font-family=\"Times,serif\" font-size=\"14.00\" fill=\"#000000\">samples = 8</text>\n<text text-anchor=\"middle\" x=\"1659\" y=\"-119.3\" font-family=\"Times,serif\" font-size=\"14.00\" fill=\"#000000\">value = [0, 8]</text>\n<text text-anchor=\"middle\" x=\"1659\" y=\"-104.3\" font-family=\"Times,serif\" font-size=\"14.00\" fill=\"#000000\">class = 악성</text>\n</g>\n<!-- 33&#45;&gt;35 -->\n<g id=\"edge35\" class=\"edge\">\n<title>33&#45;&gt;35</title>\n<path fill=\"none\" stroke=\"#000000\" d=\"M1655.6372,-192.9465C1656.1509,-182.2621 1656.7199,-170.4254 1657.2416,-159.5742\"/>\n<polygon fill=\"#000000\" stroke=\"#000000\" points=\"1660.7396,-159.6987 1657.7239,-149.5422 1653.7477,-159.3625 1660.7396,-159.6987\"/>\n</g>\n<!-- 37 -->\n<g id=\"node38\" class=\"node\">\n<title>37</title>\n<polygon fill=\"#52a9e8\" stroke=\"#000000\" points=\"1913.5,-157 1734.5,-157 1734.5,-89 1913.5,-89 1913.5,-157\"/>\n<text text-anchor=\"middle\" x=\"1824\" y=\"-141.8\" font-family=\"Times,serif\" font-size=\"14.00\" fill=\"#000000\">concave points_se &lt;= 0.012</text>\n<text text-anchor=\"middle\" x=\"1824\" y=\"-126.8\" font-family=\"Times,serif\" font-size=\"14.00\" fill=\"#000000\">samples = 5</text>\n<text text-anchor=\"middle\" x=\"1824\" y=\"-111.8\" font-family=\"Times,serif\" font-size=\"14.00\" fill=\"#000000\">value = [1, 8]</text>\n<text text-anchor=\"middle\" x=\"1824\" y=\"-96.8\" font-family=\"Times,serif\" font-size=\"14.00\" fill=\"#000000\">class = 악성</text>\n</g>\n<!-- 36&#45;&gt;37 -->\n<g id=\"edge37\" class=\"edge\">\n<title>36&#45;&gt;37</title>\n<path fill=\"none\" stroke=\"#000000\" d=\"M1828.0354,-192.9465C1827.564,-184.776 1827.0538,-175.9318 1826.5598,-167.3697\"/>\n<polygon fill=\"#000000\" stroke=\"#000000\" points=\"1830.0393,-166.9118 1825.969,-157.13 1823.0509,-167.315 1830.0393,-166.9118\"/>\n</g>\n<!-- 40 -->\n<g id=\"node41\" class=\"node\">\n<title>40</title>\n<polygon fill=\"#399de5\" stroke=\"#000000\" points=\"2042,-149.5 1932,-149.5 1932,-96.5 2042,-96.5 2042,-149.5\"/>\n<text text-anchor=\"middle\" x=\"1987\" y=\"-134.3\" font-family=\"Times,serif\" font-size=\"14.00\" fill=\"#000000\">samples = 97</text>\n<text text-anchor=\"middle\" x=\"1987\" y=\"-119.3\" font-family=\"Times,serif\" font-size=\"14.00\" fill=\"#000000\">value = [0, 163]</text>\n<text text-anchor=\"middle\" x=\"1987\" y=\"-104.3\" font-family=\"Times,serif\" font-size=\"14.00\" fill=\"#000000\">class = 악성</text>\n</g>\n<!-- 36&#45;&gt;40 -->\n<g id=\"edge40\" class=\"edge\">\n<title>36&#45;&gt;40</title>\n<path fill=\"none\" stroke=\"#000000\" d=\"M1881.4077,-192.9465C1899.6988,-180.8301 1920.2266,-167.232 1938.2853,-155.2696\"/>\n<polygon fill=\"#000000\" stroke=\"#000000\" points=\"1940.5276,-157.9826 1946.9315,-149.5422 1936.6618,-152.1468 1940.5276,-157.9826\"/>\n</g>\n<!-- 38 -->\n<g id=\"node39\" class=\"node\">\n<title>38</title>\n<polygon fill=\"#e58139\" stroke=\"#000000\" points=\"1814.5,-53 1719.5,-53 1719.5,0 1814.5,0 1814.5,-53\"/>\n<text text-anchor=\"middle\" x=\"1767\" y=\"-37.8\" font-family=\"Times,serif\" font-size=\"14.00\" fill=\"#000000\">samples = 1</text>\n<text text-anchor=\"middle\" x=\"1767\" y=\"-22.8\" font-family=\"Times,serif\" font-size=\"14.00\" fill=\"#000000\">value = [1, 0]</text>\n<text text-anchor=\"middle\" x=\"1767\" y=\"-7.8\" font-family=\"Times,serif\" font-size=\"14.00\" fill=\"#000000\">class = 양성</text>\n</g>\n<!-- 37&#45;&gt;38 -->\n<g id=\"edge38\" class=\"edge\">\n<title>37&#45;&gt;38</title>\n<path fill=\"none\" stroke=\"#000000\" d=\"M1803.9039,-88.9777C1798.7656,-80.2786 1793.227,-70.9018 1788.0425,-62.1247\"/>\n<polygon fill=\"#000000\" stroke=\"#000000\" points=\"1790.899,-60.0786 1782.7996,-53.2485 1784.8719,-63.6387 1790.899,-60.0786\"/>\n</g>\n<!-- 39 -->\n<g id=\"node40\" class=\"node\">\n<title>39</title>\n<polygon fill=\"#399de5\" stroke=\"#000000\" points=\"1927.5,-53 1832.5,-53 1832.5,0 1927.5,0 1927.5,-53\"/>\n<text text-anchor=\"middle\" x=\"1880\" y=\"-37.8\" font-family=\"Times,serif\" font-size=\"14.00\" fill=\"#000000\">samples = 4</text>\n<text text-anchor=\"middle\" x=\"1880\" y=\"-22.8\" font-family=\"Times,serif\" font-size=\"14.00\" fill=\"#000000\">value = [0, 8]</text>\n<text text-anchor=\"middle\" x=\"1880\" y=\"-7.8\" font-family=\"Times,serif\" font-size=\"14.00\" fill=\"#000000\">class = 악성</text>\n</g>\n<!-- 37&#45;&gt;39 -->\n<g id=\"edge39\" class=\"edge\">\n<title>37&#45;&gt;39</title>\n<path fill=\"none\" stroke=\"#000000\" d=\"M1843.7435,-88.9777C1848.7917,-80.2786 1854.2331,-70.9018 1859.3266,-62.1247\"/>\n<polygon fill=\"#000000\" stroke=\"#000000\" points=\"1862.4855,-63.6544 1864.4776,-53.2485 1856.4311,-60.1409 1862.4855,-63.6544\"/>\n</g>\n</g>\n</svg>\n"
          },
          "metadata": {
            "tags": []
          }
        }
      ]
    },
    {
      "cell_type": "code",
      "metadata": {
        "id": "hJkK1gys0mMq",
        "colab_type": "code",
        "colab": {
          "base_uri": "https://localhost:8080/",
          "height": 297
        },
        "outputId": "315f8e4a-c442-4b09-dffd-22b2c28e638a"
      },
      "source": [
        "feature_imp = clf.fit(x_train,y_train).feature_importances_\n",
        "print('특성 중요도 : \\n{}'.format(feature_imp))\n",
        "data = pd.DataFrame(data=feature_imp,index=x_train.columns, columns=[\"score\"]).sort_values(by = \"score\", ascending=False)\n",
        "print(data[:8])"
      ],
      "execution_count": null,
      "outputs": [
        {
          "output_type": "stream",
          "text": [
            "특성 중요도 : \n",
            "[0.06981892 0.01559134 0.04561147 0.04868307 0.00606661 0.01656337\n",
            " 0.03906172 0.10158075 0.00278512 0.00270606 0.00855103 0.00201642\n",
            " 0.01017651 0.03706077 0.00240507 0.00334656 0.00714425 0.00335832\n",
            " 0.00387282 0.00369138 0.11922393 0.01621181 0.13742981 0.07779522\n",
            " 0.0155621  0.014908   0.03065682 0.13954289 0.00814019 0.01043768]\n",
            "                         score\n",
            "concave points_worst  0.139543\n",
            "perimeter_worst       0.137430\n",
            "radius_worst          0.119224\n",
            "concave points_mean   0.101581\n",
            "area_worst            0.077795\n",
            "radius_mean           0.069819\n",
            "area_mean             0.048683\n",
            "perimeter_mean        0.045611\n"
          ],
          "name": "stdout"
        }
      ]
    },
    {
      "cell_type": "code",
      "metadata": {
        "id": "h2HkIJMzA-vc",
        "colab_type": "code",
        "colab": {
          "base_uri": "https://localhost:8080/",
          "height": 55
        },
        "outputId": "5a7a8adc-0678-46ee-f86d-e71f5c914d2b"
      },
      "source": [
        "c_mat=confusion_matrix(y_test,y_pred)\n",
        "print(c_mat)"
      ],
      "execution_count": null,
      "outputs": [
        {
          "output_type": "stream",
          "text": [
            "[[34  2]\n",
            " [ 3 18]]\n"
          ],
          "name": "stdout"
        }
      ]
    },
    {
      "cell_type": "code",
      "metadata": {
        "id": "Sy9YZlPaVhAH",
        "colab_type": "code",
        "colab": {
          "base_uri": "https://localhost:8080/",
          "height": 185
        },
        "outputId": "5b81ef4f-9435-48da-e796-138bd611bc54"
      },
      "source": [
        "print(classification_report(y_test,y_pred))"
      ],
      "execution_count": null,
      "outputs": [
        {
          "output_type": "stream",
          "text": [
            "              precision    recall  f1-score   support\n",
            "\n",
            "           0       0.92      0.94      0.93        36\n",
            "           1       0.90      0.86      0.88        21\n",
            "\n",
            "    accuracy                           0.91        57\n",
            "   macro avg       0.91      0.90      0.90        57\n",
            "weighted avg       0.91      0.91      0.91        57\n",
            "\n"
          ],
          "name": "stdout"
        }
      ]
    },
    {
      "cell_type": "code",
      "metadata": {
        "id": "M3jwOZRu8gWR",
        "colab_type": "code",
        "colab": {
          "base_uri": "https://localhost:8080/",
          "height": 295
        },
        "outputId": "53fecb1f-2232-4351-acd8-d5cfa635d4c2"
      },
      "source": [
        "from sklearn.metrics import roc_curve\n",
        "from sklearn import metrics\n",
        "\n",
        "fpr, tpr, thresholds = metrics.roc_curve(y_test, clf.predict_proba(x_test)[:,1], pos_label=1)\n",
        "roc_auc = metrics.auc(fpr, tpr)\n",
        "plt.figure()\n",
        "plt.plot(fpr, tpr, label='ROC curve (area = %0.2f)' % roc_auc)\n",
        "plt.plot([0, 1], [0, 1], 'k--')\n",
        "plt.xlim([0.0, 1.0])\n",
        "plt.ylim([0.0, 1.05])\n",
        "plt.xlabel('False Positive Rate')\n",
        "plt.ylabel('True Positive Rate')\n",
        "plt.title('Receiver operating characteristic example')\n",
        "plt.legend(loc=\"lower right\")\n",
        "plt.show()"
      ],
      "execution_count": null,
      "outputs": [
        {
          "output_type": "display_data",
          "data": {
            "image/png": "[encoded data removed]",
            "text/plain": [
              "<Figure size 432x288 with 1 Axes>"
            ]
          },
          "metadata": {
            "tags": [],
            "needs_background": "light"
          }
        }
      ]
    },
    {
      "cell_type": "code",
      "metadata": {
        "id": "LxBC3LIGEJYI",
        "colab_type": "code",
        "colab": {
          "base_uri": "https://localhost:8080/",
          "height": 36
        },
        "outputId": "f3a6662f-cdfd-4bc4-cd81-4a95a177f095"
      },
      "source": [
        "accuracy_score(y_test,clf.predict(x_test))"
      ],
      "execution_count": null,
      "outputs": [
        {
          "output_type": "execute_result",
          "data": {
            "text/plain": [
              "0.9298245614035088"
            ]
          },
          "metadata": {
            "tags": []
          },
          "execution_count": 14
        }
      ]
    },
    {
      "cell_type": "code",
      "metadata": {
        "id": "uDFrq-rREImC",
        "colab_type": "code",
        "colab": {
          "base_uri": "https://localhost:8080/",
          "height": 73
        },
        "outputId": "e2efc5c6-1dc0-4cca-d020-b4431c422624"
      },
      "source": [
        "from sklearn.model_selection import cross_val_predict\n",
        "from sklearn.model_selection import cross_val_score\n",
        "cvs=cross_val_score(clf, df, targets, cv=cv)\n",
        "print(cvs)\n",
        "mean_acc=np.mean(cvs)\n",
        "mean_acc"
      ],
      "execution_count": null,
      "outputs": [
        {
          "output_type": "stream",
          "text": [
            "[0.98245614 0.9122807  0.92982456 0.96491228 0.98245614 0.98245614\n",
            " 0.96491228 0.98245614 0.96491228 1.        ]\n"
          ],
          "name": "stdout"
        },
        {
          "output_type": "execute_result",
          "data": {
            "text/plain": [
              "0.9666666666666668"
            ]
          },
          "metadata": {
            "tags": []
          },
          "execution_count": 15
        }
      ]
    },
    {
      "cell_type": "code",
      "metadata": {
        "id": "FVSNKSJ_4IbL",
        "colab_type": "code",
        "colab": {
          "base_uri": "https://localhost:8080/",
          "height": 1000
        },
        "outputId": "5f7f45e2-2c90-4656-fb52-1c083f1e19cf"
      },
      "source": [
        "tprs = []\n",
        "aucs = []\n",
        "ftimp=[]\n",
        "\n",
        "mean_fpr = np.linspace(0,1,100) # 기본적으로 배열을 0에서 1사이의 값을 100등분한 것으로 채워라!\n",
        "i = 1\n",
        "for train,test in cv.split(df,targets):\n",
        "    prob=clf.fit(df.iloc[train], targets.iloc[train]).predict_proba(df.iloc[test])[:,1] #실제 positive에 대한 prob를 구해서 prob으로 넣어줘야함...ㅠㅠ\n",
        "    y_pred=clf.predict(df.iloc[test]) # k-fold를 진행할 때 마다의 y_test에 대한 prediction\n",
        "    c_mat=confusion_matrix(targets[test],y_pred)\n",
        "    print(accuracy_score(targets[test],y_pred))\n",
        "    print(c_mat)\n",
        "    print(classification_report(targets[test],y_pred))\n",
        "    for k in range(len(targets[test])):\n",
        "      if targets[test].iloc[k]!=y_pred[k]: \n",
        "    #여기서 ==라고 하면 예측과 실제가 맞는 것의 확률, 특성이 나오고 =!로 하면 예측과 실제가 맞지 않는 것의 확률, 특성이 나옴\n",
        "        if y_pred[k] == 1 and prob[k]>0.9: #확률에 따라 출력하고 싶은 값들을 조절할 수 있다.\n",
        "         print(prob[k])\n",
        "         print(\"실제 lable : \")\n",
        "         print(targets[test].iloc[k])\n",
        "         print(\"예측 : \")\n",
        "         print(y_pred[k])         \n",
        "         print(df.iloc[test].iloc[k,:])\n",
        "        elif y_pred[k]==0 and 1-prob[k]>0.9:\n",
        "         print(1-prob[k])\n",
        "         print(\"실제 lable : \")\n",
        "         print(targets[test].iloc[k])\n",
        "         print(\"예측 : \")\n",
        "         print(y_pred[k]) \n",
        "         print(df.iloc[test].iloc[k,:])\n",
        "    feature_imp = clf.fit(df.iloc[train], targets.iloc[train]).feature_importances_\n",
        "    print('{}'.format(feature_imp))\n",
        "    data = pd.DataFrame(data=feature_imp,index=df.iloc[train].columns, columns=[\"score\"]).sort_values(by = \"score\", ascending=False)\n",
        "    print(data[:8])\n",
        "    fpr, tpr, t = roc_curve(targets[test],prob)\n",
        "    tprs.append(interp(mean_fpr, fpr, tpr))\n",
        "    roc_auc = auc(fpr, tpr)\n",
        "    aucs.append(roc_auc)\n",
        "    plt.plot(fpr, tpr,lw=2, alpha=0.3, label=r'ROC fold %d (AUC = %0.3f)' % (i, roc_auc))\n",
        "    plt.legend(loc=\"lower right\")\n",
        "    i= i+1\n",
        "\n",
        "\n",
        "plt.plot([0,1],[0,1],linestyle = '--',lw = 2,color = 'black')\n",
        "mean_tpr = np.mean(tprs, axis=0)\n",
        "mean_auc = auc(mean_fpr, mean_tpr)\n",
        "plt.plot(mean_fpr, mean_tpr, color='red',\n",
        "         label=r'Mean ROC (AUC = %0.3f )' % (mean_auc),alpha=1)\n",
        "\n",
        "plt.xlabel('False Positive Rate')\n",
        "plt.ylabel('True Positive Rate')\n",
        "plt.title('ROC')\n",
        "plt.legend(loc=\"lower right\")\n",
        "\n",
        "plt.show()\n"
      ],
      "execution_count": null,
      "outputs": [
        {
          "output_type": "stream",
          "text": [
            "0.9824561403508771\n",
            "[[34  1]\n",
            " [ 0 22]]\n",
            "              precision    recall  f1-score   support\n",
            "\n",
            "           0       1.00      0.97      0.99        35\n",
            "           1       0.96      1.00      0.98        22\n",
            "\n",
            "    accuracy                           0.98        57\n",
            "   macro avg       0.98      0.99      0.98        57\n",
            "weighted avg       0.98      0.98      0.98        57\n",
            "\n",
            "[0.0462703  0.01451779 0.03063963 0.04518056 0.0115591  0.00808739\n",
            " 0.05416482 0.09799948 0.00252184 0.00303888 0.01394284 0.00273719\n",
            " 0.0059978  0.0524063  0.00384797 0.00455328 0.00818741 0.006961\n",
            " 0.00352756 0.00416407 0.11688944 0.01341189 0.12470492 0.13229264\n",
            " 0.01481642 0.0147397  0.03383977 0.11367961 0.01198588 0.00333454]\n",
            "                         score\n",
            "area_worst            0.132293\n",
            "perimeter_worst       0.124705\n",
            "radius_worst          0.116889\n",
            "concave points_worst  0.113680\n",
            "concave points_mean   0.097999\n",
            "concavity_mean        0.054165\n",
            "area_se               0.052406\n",
            "radius_mean           0.046270\n"
          ],
          "name": "stdout"
        },
        {
          "output_type": "stream",
          "text": [
            "/usr/local/lib/python3.6/dist-packages/ipykernel_launcher.py:34: DeprecationWarning: scipy.interp is deprecated and will be removed in SciPy 2.0.0, use numpy.interp instead\n"
          ],
          "name": "stderr"
        },
        {
          "output_type": "stream",
          "text": [
            "0.9122807017543859\n",
            "[[34  1]\n",
            " [ 4 18]]\n",
            "              precision    recall  f1-score   support\n",
            "\n",
            "           0       0.89      0.97      0.93        35\n",
            "           1       0.95      0.82      0.88        22\n",
            "\n",
            "    accuracy                           0.91        57\n",
            "   macro avg       0.92      0.89      0.90        57\n",
            "weighted avg       0.92      0.91      0.91        57\n",
            "\n",
            "[0.0491236  0.0097011  0.07418749 0.06477326 0.00467598 0.0168603\n",
            " 0.03926932 0.1173365  0.00383159 0.00409016 0.00596019 0.00457378\n",
            " 0.00814368 0.01675328 0.0039934  0.00465129 0.00246223 0.00477216\n",
            " 0.00252278 0.00322823 0.14404011 0.01816885 0.10845376 0.09014434\n",
            " 0.01209059 0.00931013 0.03365566 0.12904906 0.00666437 0.0075128 ]\n",
            "                         score\n",
            "radius_worst          0.144040\n",
            "concave points_worst  0.129049\n",
            "concave points_mean   0.117336\n",
            "perimeter_worst       0.108454\n",
            "area_worst            0.090144\n",
            "perimeter_mean        0.074187\n",
            "area_mean             0.064773\n",
            "radius_mean           0.049124\n"
          ],
          "name": "stdout"
        },
        {
          "output_type": "stream",
          "text": [
            "/usr/local/lib/python3.6/dist-packages/ipykernel_launcher.py:34: DeprecationWarning: scipy.interp is deprecated and will be removed in SciPy 2.0.0, use numpy.interp instead\n"
          ],
          "name": "stderr"
        },
        {
          "output_type": "stream",
          "text": [
            "0.9298245614035088\n",
            "[[35  1]\n",
            " [ 3 18]]\n",
            "              precision    recall  f1-score   support\n",
            "\n",
            "           0       0.92      0.97      0.95        36\n",
            "           1       0.95      0.86      0.90        21\n",
            "\n",
            "    accuracy                           0.93        57\n",
            "   macro avg       0.93      0.91      0.92        57\n",
            "weighted avg       0.93      0.93      0.93        57\n",
            "\n",
            "[0.0249204  0.01164537 0.06036103 0.11194848 0.00924941 0.0036441\n",
            " 0.05397192 0.06580765 0.00431333 0.0050903  0.00911823 0.00440903\n",
            " 0.0094368  0.03062702 0.00358675 0.00377491 0.00766075 0.00343331\n",
            " 0.00340211 0.00565016 0.11160815 0.01837062 0.08267751 0.12411261\n",
            " 0.01242025 0.01649576 0.05500229 0.12662187 0.01557763 0.00506224]\n",
            "                         score\n",
            "concave points_worst  0.126622\n",
            "area_worst            0.124113\n",
            "area_mean             0.111948\n",
            "radius_worst          0.111608\n",
            "perimeter_worst       0.082678\n",
            "concave points_mean   0.065808\n",
            "perimeter_mean        0.060361\n",
            "concavity_worst       0.055002\n"
          ],
          "name": "stdout"
        },
        {
          "output_type": "stream",
          "text": [
            "/usr/local/lib/python3.6/dist-packages/ipykernel_launcher.py:34: DeprecationWarning: scipy.interp is deprecated and will be removed in SciPy 2.0.0, use numpy.interp instead\n"
          ],
          "name": "stderr"
        },
        {
          "output_type": "stream",
          "text": [
            "0.9473684210526315\n",
            "[[36  0]\n",
            " [ 3 18]]\n",
            "              precision    recall  f1-score   support\n",
            "\n",
            "           0       0.92      1.00      0.96        36\n",
            "           1       1.00      0.86      0.92        21\n",
            "\n",
            "    accuracy                           0.95        57\n",
            "   macro avg       0.96      0.93      0.94        57\n",
            "weighted avg       0.95      0.95      0.95        57\n",
            "\n",
            "[0.03194215 0.01503127 0.03649315 0.04040058 0.00550931 0.01202922\n",
            " 0.03399455 0.13426298 0.0040168  0.00406107 0.0185946  0.00457333\n",
            " 0.01063734 0.03029787 0.00558407 0.0047255  0.00351366 0.00392839\n",
            " 0.00400055 0.00581484 0.13145524 0.01618465 0.09780712 0.10075532\n",
            " 0.01134619 0.01965476 0.03460387 0.15936597 0.01100849 0.00840713]\n",
            "                         score\n",
            "concave points_worst  0.159366\n",
            "concave points_mean   0.134263\n",
            "radius_worst          0.131455\n",
            "area_worst            0.100755\n",
            "perimeter_worst       0.097807\n",
            "area_mean             0.040401\n",
            "perimeter_mean        0.036493\n",
            "concavity_worst       0.034604\n"
          ],
          "name": "stdout"
        },
        {
          "output_type": "stream",
          "text": [
            "/usr/local/lib/python3.6/dist-packages/ipykernel_launcher.py:34: DeprecationWarning: scipy.interp is deprecated and will be removed in SciPy 2.0.0, use numpy.interp instead\n"
          ],
          "name": "stderr"
        },
        {
          "output_type": "stream",
          "text": [
            "0.9649122807017544\n",
            "[[36  0]\n",
            " [ 2 19]]\n",
            "              precision    recall  f1-score   support\n",
            "\n",
            "           0       0.95      1.00      0.97        36\n",
            "           1       1.00      0.90      0.95        21\n",
            "\n",
            "    accuracy                           0.96        57\n",
            "   macro avg       0.97      0.95      0.96        57\n",
            "weighted avg       0.97      0.96      0.96        57\n",
            "\n",
            "[0.04562343 0.01999578 0.03838827 0.05819371 0.00872593 0.01038286\n",
            " 0.05389385 0.09693892 0.0050553  0.00299044 0.00747528 0.00312724\n",
            " 0.01527264 0.03679298 0.00587837 0.00454438 0.00380774 0.00568329\n",
            " 0.0051483  0.00676998 0.11017646 0.01730305 0.15683433 0.10300982\n",
            " 0.01643407 0.01086323 0.01336475 0.11627743 0.01368615 0.00736202]\n",
            "                         score\n",
            "perimeter_worst       0.156834\n",
            "concave points_worst  0.116277\n",
            "radius_worst          0.110176\n",
            "area_worst            0.103010\n",
            "concave points_mean   0.096939\n",
            "area_mean             0.058194\n",
            "concavity_mean        0.053894\n",
            "radius_mean           0.045623\n"
          ],
          "name": "stdout"
        },
        {
          "output_type": "stream",
          "text": [
            "/usr/local/lib/python3.6/dist-packages/ipykernel_launcher.py:34: DeprecationWarning: scipy.interp is deprecated and will be removed in SciPy 2.0.0, use numpy.interp instead\n"
          ],
          "name": "stderr"
        },
        {
          "output_type": "stream",
          "text": [
            "0.9824561403508771\n",
            "[[35  1]\n",
            " [ 0 21]]\n",
            "              precision    recall  f1-score   support\n",
            "\n",
            "           0       1.00      0.97      0.99        36\n",
            "           1       0.95      1.00      0.98        21\n",
            "\n",
            "    accuracy                           0.98        57\n",
            "   macro avg       0.98      0.99      0.98        57\n",
            "weighted avg       0.98      0.98      0.98        57\n",
            "\n",
            "[0.03866055 0.01143104 0.02647331 0.04663153 0.0083607  0.00766032\n",
            " 0.08744124 0.09164022 0.00475329 0.00396207 0.01159512 0.00524397\n",
            " 0.01758059 0.02768616 0.00448751 0.00400874 0.00578566 0.00869645\n",
            " 0.00485671 0.00477003 0.11725554 0.01712627 0.08068152 0.13102378\n",
            " 0.01143844 0.00937715 0.02899892 0.16946051 0.007472   0.00544066]\n",
            "                         score\n",
            "concave points_worst  0.169461\n",
            "area_worst            0.131024\n",
            "radius_worst          0.117256\n",
            "concave points_mean   0.091640\n",
            "concavity_mean        0.087441\n",
            "perimeter_worst       0.080682\n",
            "area_mean             0.046632\n",
            "radius_mean           0.038661\n"
          ],
          "name": "stdout"
        },
        {
          "output_type": "stream",
          "text": [
            "/usr/local/lib/python3.6/dist-packages/ipykernel_launcher.py:34: DeprecationWarning: scipy.interp is deprecated and will be removed in SciPy 2.0.0, use numpy.interp instead\n"
          ],
          "name": "stderr"
        },
        {
          "output_type": "stream",
          "text": [
            "0.9298245614035088\n",
            "[[35  1]\n",
            " [ 3 18]]\n",
            "              precision    recall  f1-score   support\n",
            "\n",
            "           0       0.92      0.97      0.95        36\n",
            "           1       0.95      0.86      0.90        21\n",
            "\n",
            "    accuracy                           0.93        57\n",
            "   macro avg       0.93      0.91      0.92        57\n",
            "weighted avg       0.93      0.93      0.93        57\n",
            "\n",
            "[0.03608308 0.01197198 0.03629594 0.04138937 0.00429553 0.0154182\n",
            " 0.02388154 0.12920274 0.00369346 0.00170474 0.01980841 0.00475664\n",
            " 0.01107647 0.02476833 0.00459972 0.00425826 0.00791775 0.00606842\n",
            " 0.00411965 0.00335019 0.09754557 0.02168688 0.15322873 0.12950075\n",
            " 0.01408893 0.01459241 0.01984124 0.1371545  0.01128542 0.00641515]\n",
            "                         score\n",
            "perimeter_worst       0.153229\n",
            "concave points_worst  0.137155\n",
            "area_worst            0.129501\n",
            "concave points_mean   0.129203\n",
            "radius_worst          0.097546\n",
            "area_mean             0.041389\n",
            "perimeter_mean        0.036296\n",
            "radius_mean           0.036083\n"
          ],
          "name": "stdout"
        },
        {
          "output_type": "stream",
          "text": [
            "/usr/local/lib/python3.6/dist-packages/ipykernel_launcher.py:34: DeprecationWarning: scipy.interp is deprecated and will be removed in SciPy 2.0.0, use numpy.interp instead\n"
          ],
          "name": "stderr"
        },
        {
          "output_type": "stream",
          "text": [
            "0.9824561403508771\n",
            "[[36  0]\n",
            " [ 1 20]]\n",
            "              precision    recall  f1-score   support\n",
            "\n",
            "           0       0.97      1.00      0.99        36\n",
            "           1       1.00      0.95      0.98        21\n",
            "\n",
            "    accuracy                           0.98        57\n",
            "   macro avg       0.99      0.98      0.98        57\n",
            "weighted avg       0.98      0.98      0.98        57\n",
            "\n",
            "[0.02584129 0.01681065 0.04422884 0.04107074 0.00637382 0.01638597\n",
            " 0.04282234 0.1035447  0.00423595 0.00311156 0.00728258 0.00381837\n",
            " 0.00652533 0.03955148 0.00393679 0.00474363 0.00444217 0.00336786\n",
            " 0.00395762 0.00619191 0.08529709 0.01595924 0.14717261 0.15897821\n",
            " 0.01208075 0.01305016 0.02944767 0.1356787  0.00792433 0.00616765]\n",
            "                         score\n",
            "area_worst            0.158978\n",
            "perimeter_worst       0.147173\n",
            "concave points_worst  0.135679\n",
            "concave points_mean   0.103545\n",
            "radius_worst          0.085297\n",
            "perimeter_mean        0.044229\n",
            "concavity_mean        0.042822\n",
            "area_mean             0.041071\n"
          ],
          "name": "stdout"
        },
        {
          "output_type": "stream",
          "text": [
            "/usr/local/lib/python3.6/dist-packages/ipykernel_launcher.py:34: DeprecationWarning: scipy.interp is deprecated and will be removed in SciPy 2.0.0, use numpy.interp instead\n"
          ],
          "name": "stderr"
        },
        {
          "output_type": "stream",
          "text": [
            "0.9473684210526315\n",
            "[[34  2]\n",
            " [ 1 20]]\n",
            "              precision    recall  f1-score   support\n",
            "\n",
            "           0       0.97      0.94      0.96        36\n",
            "           1       0.91      0.95      0.93        21\n",
            "\n",
            "    accuracy                           0.95        57\n",
            "   macro avg       0.94      0.95      0.94        57\n",
            "weighted avg       0.95      0.95      0.95        57\n",
            "\n",
            "[0.03960199 0.01117676 0.04630049 0.02603406 0.00655732 0.01567185\n",
            " 0.04013519 0.11949556 0.00336865 0.0034203  0.0051853  0.00365811\n",
            " 0.00880601 0.02918803 0.00407899 0.00327944 0.0047077  0.00453874\n",
            " 0.00407486 0.00395823 0.10299612 0.01510797 0.1659493  0.16519675\n",
            " 0.02585979 0.01276611 0.04493174 0.06960371 0.00976434 0.00458659]\n",
            "                         score\n",
            "perimeter_worst       0.165949\n",
            "area_worst            0.165197\n",
            "concave points_mean   0.119496\n",
            "radius_worst          0.102996\n",
            "concave points_worst  0.069604\n",
            "perimeter_mean        0.046300\n",
            "concavity_worst       0.044932\n",
            "concavity_mean        0.040135\n"
          ],
          "name": "stdout"
        },
        {
          "output_type": "stream",
          "text": [
            "/usr/local/lib/python3.6/dist-packages/ipykernel_launcher.py:34: DeprecationWarning: scipy.interp is deprecated and will be removed in SciPy 2.0.0, use numpy.interp instead\n"
          ],
          "name": "stderr"
        },
        {
          "output_type": "stream",
          "text": [
            "0.9642857142857143\n",
            "[[34  1]\n",
            " [ 1 20]]\n",
            "              precision    recall  f1-score   support\n",
            "\n",
            "           0       0.97      0.97      0.97        35\n",
            "           1       0.95      0.95      0.95        21\n",
            "\n",
            "    accuracy                           0.96        56\n",
            "   macro avg       0.96      0.96      0.96        56\n",
            "weighted avg       0.96      0.96      0.96        56\n",
            "\n",
            "[0.0261531  0.02265616 0.07703497 0.04078858 0.00510167 0.01637854\n",
            " 0.07702249 0.06807265 0.00353679 0.00339288 0.00910117 0.00610252\n",
            " 0.0106795  0.04718001 0.00351948 0.00427969 0.00971872 0.00431744\n",
            " 0.00335831 0.0049177  0.13762345 0.02352097 0.11135539 0.10601292\n",
            " 0.01161352 0.0181117  0.03104006 0.09760427 0.01080126 0.00900407]\n",
            "                         score\n",
            "radius_worst          0.137623\n",
            "perimeter_worst       0.111355\n",
            "area_worst            0.106013\n",
            "concave points_worst  0.097604\n",
            "perimeter_mean        0.077035\n",
            "concavity_mean        0.077022\n",
            "concave points_mean   0.068073\n",
            "area_se               0.047180\n"
          ],
          "name": "stdout"
        },
        {
          "output_type": "stream",
          "text": [
            "/usr/local/lib/python3.6/dist-packages/ipykernel_launcher.py:34: DeprecationWarning: scipy.interp is deprecated and will be removed in SciPy 2.0.0, use numpy.interp instead\n"
          ],
          "name": "stderr"
        },
        {
          "output_type": "display_data",
          "data": {
            "image/png": "[encoded data removed]",
            "text/plain": [
              "<Figure size 432x288 with 1 Axes>"
            ]
          },
          "metadata": {
            "tags": [],
            "needs_background": "light"
          }
        }
      ]
    }
  ]
}